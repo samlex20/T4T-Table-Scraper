{
 "cells": [
  {
   "cell_type": "code",
   "execution_count": 1,
   "metadata": {
    "collapsed": false
   },
   "outputs": [],
   "source": [
    "from bs4 import BeautifulSoup\n",
    "import requests\n",
    "import urllib.request\n",
    "import pandas\n",
    "from geopy.geocoders import Nominatim\n",
    "import sqlite3 as lite\n",
    "geolocator = Nominatim()"
   ]
  },
  {
   "cell_type": "code",
   "execution_count": 2,
   "metadata": {
    "collapsed": false
   },
   "outputs": [],
   "source": [
    "### iterate through all pages of new yorker tables-for-two history                                                                            \n",
    "step = 1\n",
    "RestLinks = []\n",
    "while step < 80:\n",
    "    page = 'http://www.newyorker.com/magazine/tables-for-two/page/' + str(step)\n",
    "    #print(page)                                                                                                              \n",
    "    r = urllib.request.urlopen(page).read()\n",
    "    #r = open('T4T.html', 'r')  #can use this sample html page if you don't have internet                                                                                                \n",
    "    soup = BeautifulSoup(r, \"lxml\")\n",
    "    \n",
    "    #info = soup.findAll('span', {'itemprop':'headline'}) #this works to find the name of the restaurants\n",
    "    \n",
    "    #return a list of lists of restaurants from each page\n",
    "    info = soup.findAll('a', {'itemprop':'name'})\n",
    "    \n",
    "    #extract only the link itself\n",
    "    for link in info:\n",
    "        #print(link.get('href'))\n",
    "        # add links to RestLinks list:                                                                               \n",
    "        RestLinks.append(link.get('href'))\n",
    "\n",
    "    step +=1"
   ]
  },
  {
   "cell_type": "code",
   "execution_count": 4,
   "metadata": {
    "collapsed": false
   },
   "outputs": [
    {
     "name": "stdout",
     "output_type": "stream",
     "text": [
      "790\n",
      "['http://www.newyorker.com/magazine/1955/01/29/1955_01_29_048_tny_cards_000050185', 'http://www.newyorker.com/magazine/1954/12/04/1954_12_04_155_tny_cards_000049380', 'http://www.newyorker.com/magazine/1954/11/20/1954_11_20_196_tny_cards_000051499', 'http://www.newyorker.com/magazine/1954/10/23/1954_10_23_149_tny_cards_000049491', 'http://www.newyorker.com/magazine/1954/10/09/1954_10_09_165_tny_cards_000045935', 'http://www.newyorker.com/magazine/1954/06/19/1954_06_19_090_tny_cards_000045930', 'http://www.newyorker.com/magazine/1954/05/01/1954_05_01_097_tny_cards_000050175', 'http://www.newyorker.com/magazine/1954/04/03/1954_04_03_116_tny_cards_000049773', 'http://www.newyorker.com/magazine/1954/03/06/1954_03_06_064_tny_cards_000048922', 'http://www.newyorker.com/magazine/1954/02/06/1954_02_06_089_tny_cards_000045608']\n"
     ]
    }
   ],
   "source": [
    "#print(RestLinks)\n",
    "print(len(RestLinks))\n",
    "print(RestLinks[-11:-1])"
   ]
  },
  {
   "cell_type": "code",
   "execution_count": 27,
   "metadata": {
    "collapsed": false
   },
   "outputs": [],
   "source": [
    "### for each restaurant in RestLinks, we need to beautiful soup and save\n",
    "### 1. Restaurant name  x\n",
    "### 2. Address -- which we can use geopy to extract lat lng x\n",
    "### 3. phone number x\n",
    "### 4. text -- for sentiment analysis\n",
    "### 5. date of the article x\n",
    "\n",
    "# the first time through, create a text file and list of lists containing restaurant info \n",
    "#T4Trests = open('T4T_restaurant_db_new.txt', 'w')\n",
    "\n",
    "info = []\n",
    "count = 1\n",
    "for article in RestLinks:                                                                                                     \n",
    "    r = urllib.request.urlopen(article).read()\n",
    "    soup = BeautifulSoup(r, \"lxml\")\n",
    "    rest_info = []\n",
    "    #T4Trests.write(article)\n",
    "    #T4Trests.write(\"\\t\")\n",
    "    #rest_info.append(article)\n",
    "    # grab restaurant name(which may be different from name given in link)\n",
    "    name = soup.findAll('h1', {'itemprop':'headline'})[0].string\n",
    "    #print(name)\n",
    "    #T4Trests.write(name)\n",
    "    #T4Trests.write(\"\\t\")\n",
    "    #rest_info.append(name)\n",
    "    # grab street and telephone addresses\n",
    "    street = \"null\"\n",
    "    tel = \"null\"\n",
    "    lat = \"null\"\n",
    "    lng = \"null\"\n",
    "    try:\n",
    "        addresses = soup.findAll('h2', {'itemprop':'alternativeHeadline'})[0].string\n",
    "        street = addresses.split('(')[0]\n",
    "        location = geolocator.geocode(street)\n",
    "        lat = location.latitude\n",
    "        lng = location.longitude\n",
    "        tel = addresses.split('(')[1].strip(')')\n",
    "    except:\n",
    "        pass \n",
    "    #T4Trests.write(street)\n",
    "    #T4Trests.write(\"\\t\")\n",
    "    #rest_info.append(street)\n",
    "    #T4Trests.write(str(lat))\n",
    "    #T4Trests.write(\"\\t\")\n",
    "    #rest_info.append(str(lat))\n",
    "    #T4Trests.write(str(lng))\n",
    "    #T4Trests.write(\"\\t\")\n",
    "    #rest_info.append(str(lng))\n",
    "    #T4Trests.write(tel)\n",
    "    #T4Trests.write(\"\\t\")\n",
    "    #rest_info.append(tel)\n",
    "    # grab article date\n",
    "    date = article.split('/')\n",
    "    dt = date[4] + \"/\" + date[5] + \"/\" + date[6]\n",
    "    #T4Trests.write(dt)\n",
    "    #T4Trests.write(\"\\t\")\n",
    "    #rest_info.append(dt)\n",
    "    #grab text for later meta-analysis\n",
    "    div = soup.find_all('div',{'itemprop': 'articleBody'})\n",
    "    for tag in div:\n",
    "        text = tag.find_all('p')\n",
    "    text_sum = \"\"\n",
    "    for p in text:\n",
    "        text_sum += str(p)\n",
    "    #T4Trests.write(text_sum)\n",
    "    #T4Trests.write(\"\\n\")\n",
    "    rest_info = (count, name, article, street, str(lat), str(lng), tel, dt, text_sum)\n",
    "    #print(len(rest_info))\n",
    "    info.append(rest_info)\n",
    "    count +=1\n",
    "    #print(len(info))\n",
    "#T4Trests.close()"
   ]
  },
  {
   "cell_type": "code",
   "execution_count": 32,
   "metadata": {
    "collapsed": false,
    "scrolled": true
   },
   "outputs": [
    {
     "name": "stdout",
     "output_type": "stream",
     "text": [
      "790\n",
      "9\n"
     ]
    }
   ],
   "source": [
    "print(len(info))\n",
    "print(len(info[-1]))"
   ]
  },
  {
   "cell_type": "code",
   "execution_count": 71,
   "metadata": {
    "collapsed": false
   },
   "outputs": [
    {
     "data": {
      "text/plain": [
       "37351"
      ]
     },
     "execution_count": 71,
     "metadata": {},
     "output_type": "execute_result"
    }
   ],
   "source": [
    "### make list of lists suitable for google maps \n",
    "### where each list contains [name, lat, lng, index]\n",
    "gmaps = []\n",
    "for entry in info:\n",
    "    try:\n",
    "        lat = float(entry[4])\n",
    "        lng = float(entry[5])\n",
    "    except:\n",
    "        lat = \"null\"\n",
    "        lng = \"null\"\n",
    "    item = [entry[1], lat, lng, int(entry[0])]\n",
    "    gmaps.append(item)\n",
    "    \n",
    "gmaps_list = open('gmaps_list.txt', 'w')\n",
    "gmaps_list.write(str(gmaps))"
   ]
  },
  {
   "cell_type": "code",
   "execution_count": 69,
   "metadata": {
    "collapsed": false
   },
   "outputs": [
    {
     "name": "stdout",
     "output_type": "stream",
     "text": [
      "790\n",
      "[['The Original Crab Shanty', 40.8486462, -73.7871834, 1], ['Bar Omar', 40.7140811, -73.9608355307956, 2], ['Kang Ho Dong Baekjeong', 39.814437, -86.1204269, 3], ['Urbanspace Vanderbilt', 'null', 'null', 4], ['Hangawi', 29.815568, -95.3946569, 5], ['El Atoradero', 40.6768649, -73.9638170784625, 6], ['Santa Fe Grill', 'null', 'null', 7], ['MáLà Project', 51.582639, -0.0167735, 8], ['Sofrito', 42.0187848496996, -87.8648646560331, 9], ['Okonomi / Yuji Ramen', 40.7125385, -73.9487500561811, 10], ['Momofuku Nishi', -33.7147825, 150.768764, 11], ['The Cecil', 41.6799323, -87.62797885, 12], ['High Street on Hudson', 42.3561888, -83.0837728, 13], ['Han Dynasty', 41.7399294, -87.6293561, 14], ['Abyssinia', 41.428355, -81.7848889, 15], ['Murray’s Cheese Bar', 40.731209, -74.0031901844134, 16], ['El Cortez', 40.7069737647059, -73.9330972941176, 17], ['Avra Estiatorio', 40.616492, -73.9285669, 18], ['Llama Inn', 40.7167192608696, -73.9507435652174, 19], ['Vaucluse', 37.8500521, -122.2545767, 20], ['Houseman', 40.02083, -82.9674589, 21], ['Lowlife', 42.9670251271314, -71.4285821257487, 22], ['Babu Ji', 29.4294137142857, -97.1662572653061, 23], ['Quality Eats', 41.7062825958546, -71.4633652880635, 24], ['Oiji', 51.582639, -0.0167735, 25], ['Le Veau d’Or', 37.8468176, -122.2563115, 26], ['Avant Garden', 37.8035646, -122.2864648, 27], ['Sushi Azabu / Azabu', 40.9149413882857, -74.0039787991872, 28], ['Virginia’s', 30.16787696, -85.65156024, 29], ['Bruno', 41.5331165209222, -90.5723713159654, 30], ['Gabriel Kreuther', 42.0968450408163, -80.0642516734694, 31], ['Jams', 53.7558567, -1.4654847, 32], ['Timna', 40.7886130204082, -73.6448940816327, 33], ['Seamore’s', 30.6736433097142, -81.4624142696781, 34], ['Brooklyn Bavarian Biergarten', 40.6636390606061, -73.9895037878788, 35], ['Superiority Burger', 37.7974951, -122.2647351, 36], ['Wildair', 41.6277939, -83.5542957, 37], ['Mulino a Vino', 29.796276122449, -95.4006240612245, 38], ['Ganso Yaki', 40.6854136, -73.9803896, 39], ['Faro', 40.7074152, -73.9228488216163, 40], ['Little Park', 41.2611835, -95.9140798, 41], ['The Black Ant', -33.97483, 18.5004701, 42], ['Shuko', 30.1696039, -85.670916, 43], ['Chomp Chomp', 40.5954501428571, -74.0917353571429, 44], ['Charlie Palmer at the Knick', 42.0267, -88.274951, 45], ['Rosie’s', 41.64538, -83.5253139, 46], ['The Four Horsemen', 40.7130756, -73.9572968, 47], ['Lupulo', 'null', 'null', 48], ['Gaia Italian Café', 41.800011, -71.4153819, 49], ['Streetbird', 40.8042983, -73.95569, 50], ['Rebelle', 40.7184578, -73.9948123, 51], ['Astoria Seafood', 'null', 'null', 52], ['Momofuku Ko', 40.7247143125, -73.9914665, 53], ['Racines NY', 29.636317, -95.2269869, 54], ['El Rey Coffee Bar & Luncheonette', 42.96733325, -71.4286300833333, 55], ['Noreetuh', 51.582639, -0.0167735, 56], ['Bar Bolonat', 42.3561888, -83.0837728, 57], ['Pizza, Pizza', 'null', 'null', 58], ['Javelina', 42.3437038, -83.0890307, 59], ['Happy Ending', 30.6735773963197, -81.4618772177971, 60], ['The Polo Bar', 40.059499, -85.6754779, 61], ['Café Clover', 51.50344025, -0.127708109585621, 62], ['Tuome', 30.1569146086245, -85.6540729382811, 63], ['Death by Ramen', 'null', 'null', 64], ['Stella 34', 29.8191799, -95.4784341, 65], ['Cosme', 42.3256451, -83.0822612, 66], ['Beijing Pop Kabob', 37.2471505333333, -95.7071734, 67], ['The Eddy', 33.590156, -101.8371809, 68], ['Via Carota', 53.3689224, 10.48524575, 69], ['Greenpoint Fish & Lobster Co.', 40.7241562, -73.9491139987163, 70], ['Balvanera', 42.9673026071429, -71.4286248214286, 71], ['La Savane', 41.468105, -81.7677209, 72], ['Awadh', 'null', 'null', 73], ['Turntable Mad for Chicken', 28.0902721996868, -80.5713397308301, 74], ['Shun Lee West', 39.8759990570965, -86.1586522892305, 75], ['Upland', 40.6469696062176, -74.2286523937824, 76], ['White Street', 41.2611835, -95.9140798, 77], ['King Bee', 41.5289385102041, -90.5692392653061, 78], ['Nobu New York', 42.3561888, -83.0837728, 79], ['Emmett’s', 40.7273671, -74.0025441, 80], ['Brooklyn Beet Company', 'null', 'null', 81], ['Dirty French', 42.234552, -71.854452, 82], ['Gotham West Market', 41.500559, -90.589144, 83], ['Hometown Bar-B-Que', 40.67492465, -74.0161305904962, 84], ['Dimes', 43.7481942857143, -87.9761225714286, 85], ['The Gorbals', 39.2363129, -76.602317, 86], ['Wizards from Oz', 'null', 'null', 87], ['Élan', 42.3270531, -83.081854, 88], ['Bâtard', 41.2611835, -95.9140798, 89], ['The Pavilion Market Cafe', 40.736185875, -73.9911215, 90], ['Iris Café Store #9', 40.6931705, -73.998756042762, 91], ['Rockaway Beach Surf Club', 40.588782, -73.8121608372034, 92], ['Two if by Sea', 'null', 'null', 93], ['Barchetta', 29.8070113673469, -95.4050373877551, 94], ['Beyond Beirut', 'null', 'null', 95], ['Schmear Campaign', 'null', 'null', 96], ['The Runner', 40.69368695, -73.9838792334718, 97], ['Tavern on the Green', 'null', 'null', 98], ['Margaux', 34.0576643, -118.3065991, 99], ['Navy', 42.6404806059423, -71.0853125768107, 100], ['Pickle Shack', 'null', 'null', 101], ['Bunker', 40.703227, -73.8205359, 102], ['Gato', 41.645912, -83.538587, 103], ['The Writing Room', 'null', 'null', 104], ['Little Lamb', 'null', 'null', 105], ['Willow Road', 42.0536775714286, -71.0002425714286, 106], ['Telepan Local', 40.9158214201781, -74.0037014326699, 107], ['Narcissa', 54.78213955, -1.55044120350558, 108], ['Contra', 41.6277939, -83.5542957, 109], ['All’Onda', 41.6539784, -83.5441095, 110], ['Foragers City Table', 41.6565654, -83.5534491, 111], ['Betony', 40.688603, -74.1019475925926, 112], ['Empire Diner', -27.4933669, 153.0502935, 113], ['Saul', 40.6709108, -73.9633156304714, 114], ['Fung Tu', 51.28188735, 1.07077310332734, 115], ['Rotisserie Georgette', 37.8468176, -122.2563115, 116], ['Café Nadery', 30.1625452, -85.6606674, 117], ['Khe-Yo', 37.3242885470068, -121.885220907769, 118], ['Aita', 40.6864754, -73.9666402, 119], ['Sushi Nakazawa', 53.4640328, -1.4654902, 120], ['Piora', 42.3561888, -83.0837728, 121], ['The Lambs Club', 40.6815769285714, -74.1104735, 122], ['Charlie Bird', 6.8111127, -58.1641256, 123], ['SkáL', 33.5639485789474, -81.8077198421053, 124], ['Marco’s', 40.6789833, -73.973518, 125], ['Hunan Manor', 33.0084038408553, -97.0462603964474, 126], ['Toro', 42.0536775714286, -71.0002425714286, 127], ['City Grit', 29.797838, -95.4132309, 128], ['Glasserie', 40.737712, -73.9561288, 129], ['Shalom Japan', 39.2336525, -76.6072378, 130], ['The Sandwich Moment', 'null', 'null', 131], ['Uncle Boons', 35.8000807393061, -81.4333571555854, 132], ['Chez José', 40.7114643, -73.9577637, 133], ['Luksus', 40.72339975, -73.9508191144917, 134], ['Atrium', 40.7036006875, -73.9905581875, 135], ['Umami Burger', 53.7558567, -1.4654847, 136], ['Corvo Bianco', 41.1526178181818, -83.4047562272727, 137], ['The Elm', 40.72088455, -73.9555734045708, 138], ['Chelsea Market Openings', 42.7862290348244, -71.0845308650625, 139], ['Estela', 41.800011, -71.4153819, 140], ['Abc Cocina', 42.3310203, -83.0824228, 141], ['The Cleveland', 40.60302715, -74.0684726420495, 142], ['Antica Pesa', 40.7188295, -73.95865, 143], ['Alder', 51.8250795, 1.2413677, 144], ['Lafayette', 41.64611925, -83.53903871875, 145], ['Melibea', 47.500049, 8.7258461, 146], ['Hanjan', 37.8148619, -122.2646805, 147], ['Carbone', 35.5445550724751, -82.8357417769105, 148], ['M. Wells Dinette', 40.7419799, -73.953733, 149], ['Pearl & Ash', 40.3643177929804, -90.4203722039566, 150], ['Prospect', 40.6861795, -73.9737672, 151], ['Le Philosophe', -33.731401, 150.7861116, 152], ['Chez Sardine', 29.7889078979592, -95.3986307142857, 153], ['Mighty Quinn’s And John Brown Smokehouse', 'null', 'null', 154], ['The Pines', 'null', 'null', 155], ['Aamanns-Copenhagen', 40.7221385, -74.0097649, 156], ['Arlington Club', 'null', 'null', 157], ['The Marrow', 52.62966, 1.2980758, 158], ['Aska', 40.7217038, -73.9582537, 159], ['Gaonnuri', 'null', 'null', 160], ['Jones Wood Foundry', 40.633036, -73.9155989, 161], ['Ngam', 51.5810557, -0.0177364, 162], ['Mayfield', 40.6749104, -73.9565953, 163], ['L’Apicio', 34.0721176, -118.358341, 164], ['El Toro Blanco', 'null', 'null', 165], ['Pig And Khao', 38.6080344514523, -89.6080862357592, 166], ['La Vara', 40.68846895, -73.9977108514445, 167], ['Ootoya', 29.8015194, -95.4365853, 168], ['Allswell', 40.7196459, -73.9559406, 169], ['Chop Shop', -27.4933669, 153.0502935, 170], ['Bobwhite Lunch & Supper Counter', 33.578949, -101.8386199, 171], ['Rosemary’s', 41.7061248699043, -71.4632855477625, 172], ['The Toucan And the Lion', 33.590156, -101.8371809, 173], ['Bistro Petit', 40.7119305, -73.9612056, 174], ['Parish Hall', 38.658798, -90.1691899, 175], ['Swine', 42.3561888, -83.0837728, 176], ['Hospoda', 40.6285841985428, -73.9175484735883, 177], ['Calliope', 42.3519708, -83.070728, 178], ['Mission Chinese Food', 41.6277939, -83.5542957, 179], ['Reynards', 40.7219036, -73.9580607, 180], ['Il Buco Alimentari E Vineria', 40.72647545, -73.9925376437387, 181], ['Yunnan Kitchen', 38.6081023613126, -89.6080870315779, 182], ['Catch', -29.7865615, 30.8904598, 183], ['Brooklyn Crab', 40.6753603, -74.0165402, 184], ['Biang!', 'null', 'null', 185], ['Super Linda', 41.2611835, -95.9140798, 186], ['Perla', 'null', 'null', 187], ['Joanne Trattoria', 40.722208, -73.8945859, 188], ['La Promenade Des Anglais', 29.8070113673469, -95.4050373877551, 189], ['Francesca', 38.608962167245, -89.6078916247574, 190], ['Pok Pok Ny', 40.68730275, -74.0013265828431, 191], ['Alison Eighteen', 29.8017351, -95.429355, 192], ['Gwynnett St', 40.7132918, -73.9438557513385, 193], ['The Bowery Diner', 'null', 'null', 194], ['Atera', 41.7017888056676, -71.3812988847061, 195], ['ThirstbaràVin', 40.6791407, -73.9583915, 196], ['Littleneck', 'null', 'null', 197], ['Wong', 40.5954501428571, -74.0917353571429, 198], ['North End Grill', 40.714945, -74.015939, 199], ['Acme', 40.72722745, -73.9940572964935, 200], ['The Cannibal', 38.8504672, -104.869018, 201], ['Talde', 'null', 'null', 202], ['Caffè Storico', 'null', 'null', 203], ['Kutsher’s Tribeca', 37.7953520816327, -122.275168367347, 204], ['Rouge Et Blanc', 40.7273101, -74.0025924, 205], ['Battersby', 40.6831231, -73.9927719, 206], ['Isa', 40.7142049, -73.9653103, 207], ['Ciano', 40.73996515, -73.987298340737, 208], ['Nights And Weekends', 40.7238537, -73.9510983, 209], ['David Burke Kitchen', 48.1772508, 11.4788064, 210], ['Do or Dine', 40.6867794, -73.9547635, 211], ['Whitehall', 41.7062825958546, -71.4633652880635, 212], ['Tertulia', 53.7558567, -1.4654847, 213], ['Boulud Sud', 40.7342973, -73.9010124, 214], ['La Mar Cebichería Peruana', 35.7970456984983, -81.4326389421198, 215], ['The Beagle', 30.0784219230769, -94.110273, 216], ['Redfarm', 42.3561888, -83.0837728, 217], ['Untitled', 'null', 'null', 218], ['Buvette', 53.3703675, 10.4861047501951, 219], ['Kajitsu', 37.7974951, -122.2647351, 220], ['Monument Lane', 41.7309120263158, -71.4758258157895, 221], ['The Leopard at Des Artistes', 41.470065, -81.7317299, 222], ['St. Anselm', 40.71426675, -73.9560448291932, 223], ['Miss Lily’s Favourite Cakes', 32.3436526666667, -95.3011461754386, 224], ['Earl’s Beer & Cheese', 42.3358534, -83.0513643, 225], ['Legend Bar & Restaurant', 'null', 'null', 226], ['Maison Premiere', 40.7142423, -73.9616065, 227], ['Empellón', 30.1552687959184, -85.6628297551021, 228], ['The Dutch', 30.866568, -86.1142129, 229], ['Brushstroke', 40.713015, -74.0339885095379, 230], ['Imperial No. Nine', 43.6769783471675, -70.2948973829982, 231], ['The Castello Plan', 40.6403649, -73.9666929, 232], ['The Highliner', -27.4933669, 153.0502935, 233], ['The Smile', 52.6347296, 1.26692491767956, 234], ['Danji', 41.57334376, -90.57672912, 235], ['Roberta’s', 40.7050062, -73.9335893, 236], ['Fishtag', 'null', 'null', 237], ['Bell Book & Candle', 29.788920755102, -95.3982047142857, 238], ['Ai Fiori', 'null', 'null', 239], ['Gentleman Farmer', 40.7210942, -73.9910960567885, 240], ['The John Dory Oyster Bar', 'null', 'null', 241], ['What Happens When', 40.60302715, -74.0684726420495, 242], ['Lyon', 41.7291896839288, -71.4741096603586, 243], ['M. Wells', 40.742551, -73.9487227, 244], ['Tortilleria Nixtamal', 40.7459352, -73.859310646707, 245], ['Porsena', 37.8079591, -122.3055973, 246], ['Lincoln', 39.1906861914894, -84.4877550425532, 247], ['Red Rooster Harlem', 37.8110435019586, -122.257559900985, 248], ['Edi & the Wolf', 'null', 'null', 249], ['Kin Shop', 'null', 'null', 250], ['Seersucker', 40.68059965, -73.9943779671784, 251], ['Bab Al Yemen', 40.63457465, -74.0229222543991, 252], ['Riverpark', 29.8130002887741, -95.3940815605454, 253], ['Hung Ry', -33.731401, 150.7861116, 254], ['Annisa', 53.4826823, -2.2635015, 255], ['Bohemian', 40.72639115, -73.9923840153135, 256], ['Rubirosa', 37.2470036607561, -95.7089248603177, 257], ['Takashi', 42.3561888, -83.0837728, 258], ['Millesime', 'null', 'null', 259], ['Jeffrey’s Grocery', 42.813825, -73.9132779, 260], ['The Fat Radish', 51.28205545, 1.07101714263152, 261], ['Umi Nom', 40.690505, -73.9599219, 262], ['Northern Spy Food Co.', 30.1696039, -85.670916, 263], ['Beer Table', 'null', 'null', 264], ['The Chef’s Table at Brooklyn Fare', 40.6885026, -73.985483545457, 265], ['Vandaag', 51.8250795, 1.2413677, 266], ['Il Matto', 41.7691895426426, -72.6783221379704, 267], ['Rabbit in the Moon', 34.0576643, -118.3065991, 268], ['Mile End', 40.6875272, -73.9870394, 269], ['Fatty ’Cue', 39.2363129, -76.602317, 270], ['Hecho En Dumbo', 40.7268952, -73.9920285, 271], ['The Lion', 43.382064625, -98.8456065, 272], ['Balaboosta', 37.2471681577255, -95.7088400097926, 273], ['The Plaza Food Hall', 'null', 'null', 274], ['New for Fall', 'null', 'null', 275], ['Lina Frey', 41.800011, -71.4153819, 276], ['Má PêChe', 40.6872494074074, -74.1009509259259, 277], ['Luke’s Lobster', 40.636006, -73.9125079, 278], ['Pulino’s Bar And Pizzeria', 'null', 'null', 279], ['Kaz an Nou', 'null', 'null', 280], ['Torrisi Italian Specialties', 37.2471711347338, -95.7091820349737, 281], ['This Little Piggy Had Roast Beef', 'null', 'null', 282], ['The Crosby Bar', 43.6770998722658, -70.29594140707, 283], ['Tanoreen', 'null', 'null', 284], ['Faustina', 40.7278238, -73.9908953, 285], ['Pies ’N’ Thighs', 40.7112166, -73.9613451, 286], ['The Mark Restaurant', 33.52467, -101.9170129, 287], ['K! Pizzacone', 'null', 'null', 288], ['Mari Vanna', 42.3270531, -83.081854, 289], ['Abc Kitchen', 'null', 'null', 290], ['Casa Lever', 'null', 'null', 291], ['La Sirène', 40.7222207, -73.9464211, 292], ['Recette', 'null', 'null', 293], ['Village Tart', 40.7211407, -73.9968441, 294], ['Roman’s', 40.6896345, -73.9695384199658, 295], ['Le Caprice', 'null', 'null', 296], ['A Voce Columbus', 'null', 'null', 297], ['Corsino', 42.3561888, -83.0837728, 298], ['Colicchio & Sons', 'null', 'null', 299], ['The Standard Grill', 36.9262522857143, -121.750724244898, 300], ['Maialino', 37.767874, -79.454959, 301], ['The Breslin', 42.1093988297612, -80.0722519142475, 302], ['Le Relais De Venise L’Entrecôte', 'null', 'null', 303], ['Piccola Cucina', 'null', 'null', 304], ['Fort Defiance', 40.6766091, -74.0135048930986, 305], ['Tipsy Parson', 'null', 'null', 306], ['Joseph Leonard', 42.813825, -73.9132779, 307], ['Sushi Uo', 40.71914155, -73.9857354788139, 308], ['Permanent Brunch', 51.582639, -0.0167735, 309], ['Bark Hot Dogs', 40.68077605, -73.9756419201791, 310], ['The Vanderbilt', 40.6795908, -73.9683659, 311], ['Aureole', 42.096176, -80.066079, 312], ['Quinto Quarto', 'null', 'null', 313], ['Prime Meats', 29.7698764, -95.3922699, 314], ['Saraghina', 40.68332735, -73.9354158, 315], ['Brooklyn Bowl', 40.7220528, -73.9575485, 316], ['Sau Voi Corp. And Baoguette/Pho Sure', 28.2461123, -82.723502, 317], ['Civetta', 40.7211659642857, -73.9968234642857, 318], ['Sho Shaun Hergatt', 28.6135999692702, -80.8061415516271, 319], ['The Brooklyn Star', 40.71557665, -73.9534279201775, 320], ['Warren 77', 41.659752, -83.5467639, 321], ['Gus And Gabriel', 38.9850480821918, -94.5919665068493, 322], ['Locanda Verde', 40.9156363680712, -74.003714973068, 323], ['Marea', 40.7676287, -73.9812526, 324], ['Hotel Griffou', 43.3822282040816, -98.8451704285714, 325], ['Belcourt', 42.3519708, -83.070728, 326], ['Dbgb', 'null', 'null', 327], ['Seasonal', 40.6902563265306, -74.1038981020408, 328], ['Harbour', 42.3561888, -83.0837728, 329], ['Sorella', 34.6938792710879, -86.7535946071829, 330], ['Minetta Tavern', 40.67976145, -73.9174492768703, 331], ['Armani / Ristorante', 'null', 'null', 332], ['La Fonda Del Sol', 'null', 'null', 333], ['Gottino And Wilfie & Nell', 41.7310039605263, -71.4759472763158, 334], ['Socarrat', 29.802998755102, -95.4004780612245, 335], ['Bar Breton', 'null', 'null', 336], ['Delicatessen', 29.797838, -95.4132309, 337], ['Shang', 'null', 'null', 338], ['Vinegar Hill House', 40.7026239, -73.9813032, 339], ['Schnipper’s Quality Kitchen', 'null', 'null', 340], ['Walter Foods', 40.7135385, -73.9585242014003, 341], ['Co.', 'null', 'null', 342], ['Lulu', 'null', 'null', 343], ['Corton', 41.2611835, -95.9140798, 344], ['Buttermilk Channel', 'null', 'null', 345], ['10 Downing Food & Wine', 51.50344025, -0.127708109585621, 346], ['L’Artusi', 29.7887327142857, -95.3993072857143, 347], ['The John Dory', 'null', 'null', 348], ['Txikito', 'null', 'null', 349], ['Graffiti', 42.329724, -83.0675239, 350], ['Braeburn', 'null', 'null', 351], ['Dirt Candy', 37.7974951, -122.2647351, 352], ['Flex Mussels', 40.6382303, -73.9137569, 353], ['Café Select', 29.7315678424062, -94.9588569745302, 354], ['Irving Mill', 42.330214, -83.0783836, 355], ['Joedoe', 34.0721176, -118.358341, 356], ['Secession', 40.713015, -74.0339885095379, 357], ['Char No. 4', 40.68507455, -73.9917683035494, 358], ['Libertine', 50.7899132, -1.0953903, 359], ['Convivio', 'null', 'null', 360], ['Allegretti', 40.6640087894737, -74.1208956842105, 361], ['Yerba Buena', 14.8442529, -91.5274657, 362], ['Matsugen', 'null', 'null', 363], ['Apiary', 51.5810557, -0.0177364, 364], ['No. 7', 'null', 'null', 365], ['James', 'null', 'null', 366], ['Nizza', 51.7436119, -1.193468, 367], ['I Sodi', 'null', 'null', 368], ['General Greene', 'null', 'null', 369], ['Square Meal', 40.645615, -73.9098909, 370], ['The New French', 42.3561888, -83.0837728, 371], ['Shalizar and Ravagh', 'null', 'null', 372], ['Scarpetta', 'null', 'null', 373], ['Rhong-Tiam', 40.7287367041534, -73.9982648444211, 374], ['Eighty One', 41.7470555, -87.6262762868004, 375], ['Adour', 40.624893, -73.9844009, 376], ['Blue Ribbon Downing Street Bar', 42.5162197336879, -70.8980753257876, 377], ['Ago', 40.9156363680712, -74.003714973068, 378], ['BAR Q', 40.7273016, -73.997396, 379], ['Bar Boulud', 'null', 'null', 380], ['Mia Dona', 40.623183, -73.9861009, 381], ['Café Katja', 35.5389303288822, -82.8312654469728, 382], ['Elettaria', 30.162381, -85.6606623333333, 383], ['Commerce', 53.4640328, -1.4654902, 384], ['Spicy & Tasty', 'null', 'null', 385], ['South Gate', 'null', 'null', 386], ['Bobo', 42.3309696, -83.0681779, 387], ['Allen & Delancey', 27.006396, -82.3788099, 388], ['Dovetail', 41.7544094, -87.6356019, 389], ['Egg', 'null', 'null', 390], ['Market Table', 40.72978, -74.0037431, 391], ['Chop Suey', 'null', 'null', 392], ['Smith’s', 40.7287786428571, -74.0016486428571, 393], ['Park Avenue Winter', 37.8500521, -122.2545767, 394], ['Fiamma', 35.0524402320037, -83.2000038960081, 395], ['The Smith', 'null', 'null', 396], ['Dell’Anima', 'null', 'null', 397], ['Omido', 'null', 'null', 398], ['Bar Blanc', 29.7887551428571, -95.398218, 399], ['Toloache', 40.5094408959576, -85.6608806587112, 400], ['Peri Ela', 37.7664008, -79.4538898, 401], ['Tailor', 30.6735742069035, -81.4603151581043, 402], ['Back Forty', 29.429493, -97.1663475714286, 403], ['Kyo Ya', 37.8080158, -122.306058, 404], ['Stonehome Wine Bar', 40.6873818, -73.9748891766563, 405], ['BLT Market', 'null', 'null', 406], ['Taïm', 42.813825, -73.9132779, 407], ['Kefi', 38.9850480821918, -94.5919665068493, 408], ['El Quinto Pino', 29.808046, -95.403862, 409], ['Wakiya', 37.767874, -79.454959, 410], ['Zenkichi', 40.7189577, -73.9608118, 411], ['Gemma', 'null', 'null', 412], ['Borough Food & Drink', 29.62313, -95.2184939, 413], ['P*ong', 42.3309696, -83.0681779, 414], ['Marlow & Sons', 40.7106872, -73.9656772, 415], ['Hill Country', 39.7551150952381, -75.5365441428572, 416], ['Ramen Setagaya', 'null', 'null', 417], ['Café St. Bart’s', 37.8356673, -122.2567509, 418], ['Insieme', 'null', 'null', 419], ['Zipper Factory Tavern', 39.7626328151301, -75.5282160460215, 420], ['Flatbush Farm & the Farm on Adderley', 40.677287, -73.9625469, 421], ['Casellula', 25.829094, -80.125516, 422], ['Perilla', 41.2533555, -95.9302811, 423], ['Provence', 'null', 'null', 424], ['Palo Santo', 'null', 'null', 425], ['Ed’s Lobster Bar', 29.7316610426211, -94.9588175972561, 426], ['Mercat', -33.731401, 150.7861116, 427], ['Anthos', 37.8365841, -122.273239, 428], ['Brown Café', 42.3508277346939, -71.1616905306122, 429], ['Lunetta', 42.3734237954035, -83.0737792273819, 430], ['Morandi', 42.813825, -73.9132779, 431], ['Rosanjin', 'null', 'null', 432], ['Klee', 'null', 'null', 433], ['Sripraphai', 'null', 'null', 434], ['Amorina', 'null', 'null', 435], ['Falai', 38.6080344514523, -89.6080862357592, 436], ['Dressler', 'null', 'null', 437], ['The Waverly Inn & Garden', 'null', 'null', 438], ['Trestle On Tenth', 'null', 'null', 439], ['Centovini', 'null', 'null', 440], ['Kampuchea Noodle Bar', 'null', 'null', 441], ['Bar Martignetti', 'null', 'null', 442], ['BLT Burger', 'null', 'null', 443], ['Café Cluny', 'null', 'null', 444], ['Nono Kitchen', 'null', 'null', 445], ['THE RUSSIAN TEA ROOM', 40.625071, -73.9877189, 446], ['BOQUERIA', 29.80191, -95.4251989, 447], ['MAX BRENNER', 'null', 'null', 448], ['PAPATZUL', 36.9047245312088, -121.754785675715, 449], ['BRIDGE CAFÉ', 'null', 'null', 450], ['ZUCCO: LE FRENCH DINER', 'null', 'null', 451], ['BELLAVITAE', 40.73050445, -74.0012474783562, 452], ['L’ATELIER DE JOËL ROBUCHON', 40.623979, -73.9206249, 453], ['CAFÉ D’ALSACE', 'null', 'null', 454], ['THE TASTING ROOM', 'null', 'null', 455], ['MOMOFUKU SSÄM BAR', 'null', 'null', 456], ['DIRTY BIRD', 29.7961286734694, -95.3992493877551, 457], ['DITCH PLAINS', 'null', 'null', 458], ['USHIWAKAMARU', 32.343652, -95.3011869473684, 459], ['CHINATOWN BRASSERIE', 'null', 'null', 460], ['THE LITTLE OWL', 'null', 'null', 461], ['Craftsteak', 'null', 'null', 462], ['Sfoglia', 'null', 'null', 463], ['Crema', 'null', 'null', 464], ['Turks & Frogs Tribeca', 'null', 'null', 465], ['Rack & Soul', 'null', 'null', 466], ['The Good Fork', 'null', 'null', 467], ['BG', 'null', 'null', 468], ['PRE:POST', 29.8110529183673, -95.4070295714286, 469], ['MR. CHOW TRIBECA', 42.3561888, -83.0837728, 470], ['Degustation', 'null', 'null', 471], ['A VOCE', 'null', 'null', 472], ['LAZZARA’S PIZZA CAFÉ', 'null', 'null', 473], ['MORIMOTO AND BUDDAKAN', 'null', 'null', 474], ['MOMOFUKU', 'null', 'null', 475], ['BOHEMIAN HALL AND BEER GARDEN', 'null', 'null', 476], ['BOULEY, UPSTAIRS', 'null', 'null', 477], ['BISTRO DU VENT', 41.3497737004433, -75.9973706136515, 478], ['TOCQUEVILLE', 39.787449, -86.0994359, 479], ['LODGE', 'null', 'null', 480], ['COUNTRY', 'null', 'null', 481], ['NOODLE PUDDING', 40.6998098, -73.9921167995283, 482], ['DEL POSTO', 'null', 'null', 483], ['TELEPAN', 41.7692002460057, -87.6272224984474, 484], ['HONG KONG STATION', 32.8110780295501, -79.9577011597257, 485], ['PEACOCK ALLEY', 42.335778, -83.05139, 486], ['YAKITORI TOTTO', 41.5755180833333, -90.5740235595238, 487], ['BLAUE GANS', 37.3244093162311, -121.884966775738, 488], ['LA ESQUINA', 40.7211786071429, -73.9968611071429, 489], ['202', 'null', 'null', 490], ['FATTY CRAB', 42.3561888, -83.0837728, 491], ['D’OR AHN', 'null', 'null', 492], ['Spigolo', 'null', 'null', 493], ['Cookshop', 'null', 'null', 494], ['A.O.C. Bedford', 50.818415, -0.1271473, 495], ['Melba’s', 33.490661, -101.9096909, 496], ['Vinny Vincenz’s Pizzamobile', 'null', 'null', 497], ['Crispo', 29.7961257346939, -95.399549877551, 498], ['Mo Pitkin’s House of Satisfaction', 'null', 'null', 499], ['Uovo', 29.4294137142857, -97.1662572653061, 500], ['Chubo', 38.6076516903567, -89.6080815367469, 501], ['Bruno Jamais', 33.5207927, -101.9397362, 502], ['Tides', 52.6247246, 1.2850388, 503], ['Maremma', 30.1661135, -85.660593, 504], ['Convivium Osteria', 'null', 'null', 505], ['Brandy Library', 52.2536917, -0.8762093, 506], ['Burger Joint', 40.625071, -73.9877189, 507], ['Perry St', 41.5205583265306, -90.5725374081633, 508], ['Gusto', 41.7309895394737, -71.4759282236842, 509], ['Mercadito', 'null', 'null', 510], ['BLT Prime', 29.62313, -95.2184939, 511], ['A', 28.082619119434, -80.6043305879967, 512], ['The Stanton Social', 52.9050803, -1.48600247507463, 513], ['Alto', 'null', 'null', 514], ['Bar Americain', 40.6870992567568, -74.1078768243243, 515], ['The Modern', 30.3781605955545, -81.6511398532904, 516], ['Yumcha', 52.62983055, 1.29563067597492, 517], ['Una Pizza Napoletana', 30.1696039, -85.670916, 518], ['Clinton St. Baking Company & Restaurant', 38.6076393451784, -89.6080812683734, 519], ['Cru', 'null', 'null', 520], ['Landmarc', 'null', 'null', 521], ['Shake Shack', 'null', 'null', 522], ['Sushi of Gari', 40.632644, -73.9126349, 523], ['Applewood', 40.6657065, -73.9820545651354, 524], ['Onera', 38.9850480821918, -94.5919665068493, 525], ['BLT Fish', 40.6601457692308, -74.1227750769231, 526], ['Tony Luke’s', 51.7436119, -1.193468, 527], ['V Steakhouse', 40.7685324, -73.9827662, 528], ['Kittichai', 26.5200186041667, -80.0498536875, 529], ['Bouillabaisse', 40.6840531, -74.00243565, 530], ['Couvron', 40.02083, -82.9674589, 531], ['Lo Scalco', 41.7692694905784, -72.6788184046501, 532], ['De Marco’s Pizzeria', 'null', 'null', 533], ['Porcupine', 52.6611569, 6.7445194, 534], ['Casa Mono', 41.9276409756098, -74.0247029268293, 535], ['Dévi', 42.3437038, -83.0890307, 536], ['Dinosaur Bar-B-Que', 39.9777930301654, -86.1692288698296, 537], ['Tempo', 'null', 'null', 538], ['Pure', 41.9276315853659, -74.0246927560976, 539], ['Megu', 'null', 'null', 540], ['Paola’s', 40.634106, -73.9067089, 541], ['Abboccato', 41.5753597083333, -90.5748540416667, 542], ['l’Impero', 40.749353, -73.9699846443896, 543], ['Café Luxembourg', 'null', 'null', 544], ['Little Giant', 35.5389685163492, -82.8313806542322, 545], ['Lure Fishbar', 41.2080653142977, -73.1399668653833, 546], ['Café Regular', 'null', 'null', 547], ['Russian Samovar', 40.6876326081081, -74.1089596891892, 548], ['Franny’s', 'null', 'null', 549], ['Café Sabarsky', 'null', 'null', 550], ['Kenka', 40.9030713109938, -73.8673339437273, 551], ['Barbès', 29.818609, -95.3810249, 552], ['Freeman’s', 'null', 'null', 553], ['Wolfgang’s Steakhouse', 'null', 'null', 554], ['Beppe', 40.73996515, -73.987298340737, 555], ['Hearth', 41.531901877551, -90.5694714081633, 556], ['5 Ninth', 53.9630525, -1.05923537216387, 557], ['Mas', 42.5161882307238, -70.8983002368015, 558], ['Blue Hill at Stone Barns', 'null', 'null', 559], ['No. 1 Chinese', 'null', 'null', 560], ['Ixta', 38.8504672, -104.869018, 561], ['Bao 111', 'null', 'null', 562], ['360', 40.67771915, -74.0127402381647, 563], ['Petrosino', 52.6247246, 1.2850388, 564], ['American Girl Café', 'null', 'null', 565], ['Jack’s Luxury Oyster Bar', 37.8021864, -122.2863193, 566], ['Daisy May’s', 'null', 'null', 567], ['Fondue', 40.638682, -73.9168089, 568], ['Barbuto', 41.6537425, -83.552764, 569], ['The Spotted Pig', 29.7905728571429, -95.4003322857143, 570], ['Westville', 'null', 'null', 571], ['The Biltmore Room', 'null', 'null', 572], ['T Salon', 42.3238915, -83.0800609, 573], ['Public', -33.880322, 151.2089062, 574], ['Dinerbar', 'null', 'null', 575], ['Counter', 51.582639, -0.0167735, 576], ['Diner', 'null', 'null', 577], ['San Pietro', 'null', 'null', 578], ['Bongo', -27.4933669, 153.0502935, 579], ['Mr. Chow', 40.623979, -73.9206249, 580], ['D’Amico', 40.68346245, -73.995071217342, 581], ['Matsuri', 29.799921, -95.4030704166667, 582], ['Uncle Jack’s Steakhouse', 40.76417975, -73.7716076401525, 583], ['Capitale', 'null', 'null', 584], ['Les Enfants Terribles', 'null', 'null', 585], ['Amma', 40.6122306, -73.9250404, 586], ['Nice Matin', 38.9848769863946, -94.5917947959184, 587], ['Schiller’s Liquor Bar', 40.7194705, -73.9866761, 588], ['KAI', 'null', 'null', 589], ['Sample', 40.6865808, -73.9908260944506, 590], ['Robert’s Steakhouse', 37.8332361, -122.2652443, 591], ['Pylos', 37.8035646, -122.2864648, 592], ['Justin’s', 39.8627720104243, -75.368098216817, 593], ['Lever House Restaurant', 'null', 'null', 594], ['Montrachet', 41.2611835, -95.9140798, 595], ['Rug-B', 40.6404285, -73.9658062, 596], ['Lunchbox Food Co.', 44.5062679518072, -85.6794532289157, 597], ['Tubby Hook Café', 'null', 'null', 598], ['Harry Cipriani', 'null', 'null', 599], ['Zerza', 33.5901917, -101.8432111, 600], ['Ida Mae Kitchen-n-Lounge', 'null', 'null', 601], ['El Paso Taquería', 'null', 'null', 602], ['WD-50', 38.6091605056807, -89.607894000068, 603], ['Lovely Day', 35.5465383070148, -82.8300426904687, 604], ['P. J. Clarke’s', 'null', 'null', 605], ['Taste', 'null', 'null', 606], ['The Carriage House', 29.8018451836735, -95.3984106122449, 607], ['RM', 37.8468176, -122.2563115, 608], ['Joe and Pat’s', 40.6130238421053, -74.1221663157895, 609], ['Pampano', 41.489342, -81.6543409, 610], ['Café Lebowitz', 35.7996493922667, -81.4322186072286, 611], ['Nanni', 40.640694, -73.9969739, 612], ['Blue Hill', 42.321086862069, -72.6505477241379, 613], ['Quercy', 40.6857767, -73.9944319, 614], ['Superfine', 40.7023608, -73.9874096, 615], ['Brasserie 8 1/2', 40.688291, -74.1013455185185, 616], ['DRK', 40.86195535, -73.9253623764612, 617], ['Thomas Beisl', 'null', 'null', 618], ['Casa', -26.1644898, 28.1067006, 619], ['Kori', 'null', 'null', 620], ['Pazo', 40.623979, -73.9206249, 621], ['Aix', 'null', 'null', 622], ['Zum Schneider', 'null', 'null', 623], ['Sapori D’Ischia', 'null', 'null', 624], ['La Caravelle', 'null', 'null', 625], ['Jewel Bako 239 E. 5th St. (979-1012)', 'null', 'null', 626], ['Salt', 'null', 'null', 627], ['Locanda Vini & Olii', 'null', 'null', 628], ['Épicerie/Café Charbon', 41.6277939, -83.5542957, 629], ['Dos Caminos', 'null', 'null', 630], ['Spa 88', 'null', 'null', 631], ['Five Points', 40.7271743076923, -73.993203, 632], ['The Basil', 29.8069202645907, -95.3995448960651, 633], ['Silver Moon Bakery', 'null', 'null', 634], ['Bouley', 'null', 'null', 635], ['Delegates’ Dining Room', 'null', 'null', 636], ['Beyoglu', 'null', 'null', 637], ['BB Sandwich Bar', 41.636762, -93.5578249, 638], ['Grocery', 'null', 'null', 639], ['Atelier', 'null', 'null', 640], ['Craft 43 E. 19th St. (780-0880)', 'null', 'null', 641], ['Maroons', 'null', 'null', 642], ['Washington Park', 'null', 'null', 643], ['Blue Smoke', 'null', 'null', 644], ['Strip House', 'null', 'null', 645], ['Nam', 'null', 'null', 646], ['Annisa', 'null', 'null', 647], ['Bid', 'null', 'null', 648], ['The Harrison', 'null', 'null', 649], ['Blue Fin', 'null', 'null', 650], ['Ustav', 'null', 'null', 651], ['Punch', 'null', 'null', 652], ['Aka Café', 'null', 'null', 653], ['DB Bistro Moderne', 'null', 'null', 654], ['Wallsé', 'null', 'null', 655], ['Castellano', 'null', 'null', 656], ['Viand Coffee Shop', 'null', 'null', 657], ['Bahar', 'null', 'null', 658], ['La Côte Basque', 'null', 'null', 659], ['Arezzo', 40.6640087894737, -74.1208956842105, 660], ['AQ Café Scandinavia House', 42.3361276, -83.052163, 661], ['Baldoria', 'null', 'null', 662], ['Cooke’s Corner', 'null', 'null', 663], ['Ilo', 'null', 'null', 664], ['Artisanal', 40.74635635, -73.982576422061, 665], ['Town', 40.6872494074074, -74.1009509259259, 666], ['Inside', 41.2533555, -95.9302811, 667], ['Tamarind', 29.806814, -95.3894909, 668], ['Blue Ribbon', 42.7724612383816, -71.4847924226093, 669], ['Bouterin', 'null', 'null', 670], ['Ithaka', 'null', 'null', 671], ['Tibetan Yak', 'null', 'null', 672], ['Sipan', 'null', 'null', 673], ['Daniel', 40.610128, -73.9752779, 674], ['Ouest', 'null', 'null', 675], ['Hampton Chutney Co.', 29.797838, -95.4132309, 676], ['Manducatis', 'null', 'null', 677], ['Atlas', 40.7652334, -73.9755657, 678], ['Bayou', 'null', 'null', 679], ['Olives', 'null', 'null', 680], ['Mexicana Mama', 42.3561888, -83.0837728, 681], ['Grand Central Degustation', 'null', 'null', 682], ['Fleur de Sel', 42.3238915, -83.0800609, 683], ['Tables for Two', 'null', 'null', 684], ['Tables for Two', 'null', 'null', 685], ['Tables for Two', 'null', 'null', 686], ['Tables for Two', 'null', 'null', 687], ['Tables for Two', 'null', 'null', 688], ['Tables for Two', 'null', 'null', 689], ['Tables for Two', 'null', 'null', 690], ['Tables for Two', 'null', 'null', 691], ['Tables for Two', 'null', 'null', 692], ['Tables for Two', 'null', 'null', 693], ['Tables for Two', 'null', 'null', 694], ['Tables for Two', 'null', 'null', 695], ['Tables for Two', 'null', 'null', 696], ['Tables for Two', 'null', 'null', 697], ['Tables for Two', 'null', 'null', 698], ['Tables for Two', 'null', 'null', 699], ['Tables for Two', 'null', 'null', 700], ['Tables for Two', 'null', 'null', 701], ['Tables for Two', 'null', 'null', 702], ['Tables for Two', 'null', 'null', 703], ['Tables for Two', 'null', 'null', 704], ['Tables for Two', 'null', 'null', 705], ['Tables for Two', 'null', 'null', 706], ['Tables for Two', 'null', 'null', 707], ['Tables for Two', 'null', 'null', 708], ['Tables for Two', 'null', 'null', 709], ['Tables for Two', 'null', 'null', 710], ['Tables for Two', 'null', 'null', 711], ['Tables for Two', 'null', 'null', 712], ['Tables for Two', 'null', 'null', 713], ['Tables for Two', 'null', 'null', 714], ['Tables for Two', 'null', 'null', 715], ['Tables for Two', 'null', 'null', 716], ['Tables for Two', 'null', 'null', 717], ['Tables for Two', 'null', 'null', 718], ['Tables for Two', 'null', 'null', 719], ['Tables for Two', 'null', 'null', 720], ['Tables for Two', 'null', 'null', 721], ['Tables for Two', 'null', 'null', 722], ['Tables for Two', 'null', 'null', 723], ['Tables for Two', 'null', 'null', 724], ['Tables for Two', 'null', 'null', 725], ['Tables for Two', 'null', 'null', 726], ['Tables for Two', 'null', 'null', 727], ['Tables for Two', 'null', 'null', 728], ['Tables for Two', 'null', 'null', 729], ['Tables for Two', 'null', 'null', 730], ['Tables for Two', 'null', 'null', 731], ['Tables for Two', 'null', 'null', 732], ['Tables for Two', 'null', 'null', 733], ['Tables for Two', 'null', 'null', 734], ['Tables for Two', 'null', 'null', 735], ['Tables for Two', 'null', 'null', 736], ['Tables for Two', 'null', 'null', 737], ['Tables for Two', 'null', 'null', 738], ['Tables for Two', 'null', 'null', 739], ['Tables for Two', 'null', 'null', 740], ['Tables for Two', 'null', 'null', 741], ['Tables for Two', 'null', 'null', 742], ['Tables for Two', 'null', 'null', 743], ['Tables for Two', 'null', 'null', 744], ['Tables for Two', 'null', 'null', 745], ['Tables for Two', 'null', 'null', 746], ['Tables for Two', 'null', 'null', 747], ['Tables for Two', 'null', 'null', 748], ['Tables for Two', 'null', 'null', 749], ['Tables for Two', 'null', 'null', 750], ['FIRE AND ICE', 'null', 'null', 751], ['CHILD OF CABARET', 'null', 'null', 752], ['Lightest Before Dawn', 'null', 'null', 753], ['1959_12_12_157_TNY_CARDS_000064382', 'null', 'null', 754], ['1959_02_14_090_TNY_CARDS_000065136', 'null', 'null', 755], ['1958_01_25_113_TNY_CARDS_000059092', 'null', 'null', 756], ['1957_11_02_141_TNY_CARDS_000057100', 'null', 'null', 757], ['1957_10_05_125_TNY_CARDS_000057435', 'null', 'null', 758], ['1957_08_10_075_TNY_CARDS_000058726', 'null', 'null', 759], ['1957_05_18_104_TNY_CARDS_000054799', 'null', 'null', 760], ['1957_04_20_140_TNY_CARDS_000051986', 'null', 'null', 761], ['1957_03_16_103_TNY_CARDS_000052341', 'null', 'null', 762], ['1956_12_29_050_TNY_CARDS_000058126', 'null', 'null', 763], ['1956_11_10_139_TNY_CARDS_000056375', 'null', 'null', 764], ['1956_10_13_134_TNY_CARDS_000054645', 'null', 'null', 765], ['1956_06_16_054_TNY_CARDS_000052168', 'null', 'null', 766], ['1956_05_12_168_TNY_CARDS_000056435', 'null', 'null', 767], ['1956_04_07_143_TNY_CARDS_000056092', 'null', 'null', 768], ['1956_03_03_108_TNY_CARDS_000053810', 'null', 'null', 769], ['1956_01_28_070_TNY_CARDS_000053481', 'null', 'null', 770], ['1955_12_31_043_TNY_CARDS_000056255', 'null', 'null', 771], ['1955_12_03_215_TNY_CARDS_000050697', 'null', 'null', 772], ['TABLES FOR TWO', 'null', 'null', 773], ['1955_10_08_135_TNY_CARDS_000051954', 'null', 'null', 774], ['1955_07_30_062_TNY_CARDS_000052788', 'null', 'null', 775], ['1955_06_11_079_TNY_CARDS_000049413', 'null', 'null', 776], ['1955_04_30_101_TNY_CARDS_000047406', 'null', 'null', 777], ['1955_03_26_091_TNY_CARDS_000049370', 'null', 'null', 778], ['1955_03_05_096_TNY_CARDS_000047246', 'null', 'null', 779], ['1955_01_29_048_TNY_CARDS_000050185', 'null', 'null', 780], ['1954_12_04_155_TNY_CARDS_000049380', 'null', 'null', 781], ['1954_11_20_196_TNY_CARDS_000051499', 'null', 'null', 782], ['1954_10_23_149_TNY_CARDS_000049491', 'null', 'null', 783], ['1954_10_09_165_TNY_CARDS_000045935', 'null', 'null', 784], ['1954_06_19_090_TNY_CARDS_000045930', 'null', 'null', 785], ['1954_05_01_097_TNY_CARDS_000050175', 'null', 'null', 786], ['1954_04_03_116_TNY_CARDS_000049773', 'null', 'null', 787], ['1954_03_06_064_TNY_CARDS_000048922', 'null', 'null', 788], ['1954_02_06_089_TNY_CARDS_000045608', 'null', 'null', 789], ['1954_01_02_053_TNY_CARDS_000046897', 'null', 'null', 790]]\n"
     ]
    }
   ],
   "source": [
    "print(len(gmaps))\n",
    "print(gmaps)\n"
   ]
  },
  {
   "cell_type": "code",
   "execution_count": 54,
   "metadata": {
    "collapsed": false
   },
   "outputs": [
    {
     "ename": "OperationalError",
     "evalue": "table Rest_inf already exists",
     "output_type": "error",
     "traceback": [
      "\u001b[0;31m---------------------------------------------------------------------------\u001b[0m",
      "\u001b[0;31mOperationalError\u001b[0m                          Traceback (most recent call last)",
      "\u001b[0;32m<ipython-input-54-ef807de44bc4>\u001b[0m in \u001b[0;36m<module>\u001b[0;34m()\u001b[0m\n\u001b[1;32m      3\u001b[0m \u001b[0;32mwith\u001b[0m \u001b[0mcon\u001b[0m\u001b[0;34m:\u001b[0m\u001b[0;34m\u001b[0m\u001b[0m\n\u001b[1;32m      4\u001b[0m     \u001b[0mcur\u001b[0m \u001b[0;34m=\u001b[0m \u001b[0mcon\u001b[0m\u001b[0;34m.\u001b[0m\u001b[0mcursor\u001b[0m\u001b[0;34m(\u001b[0m\u001b[0;34m)\u001b[0m\u001b[0;34m\u001b[0m\u001b[0m\n\u001b[0;32m----> 5\u001b[0;31m     \u001b[0mcur\u001b[0m\u001b[0;34m.\u001b[0m\u001b[0mexecute\u001b[0m\u001b[0;34m(\u001b[0m\u001b[0;34m\"CREATE TABLE Rest_inf(Id INTEGER PRIMARY KEY, Name TEXT, Article TEXT, Street TEXT, Latitude FLOAT, Longitude FLOAT, Telephone TEXT, Date TEXT, Text TEXT)\"\u001b[0m\u001b[0;34m)\u001b[0m\u001b[0;34m;\u001b[0m\u001b[0;34m\u001b[0m\u001b[0m\n\u001b[0m\u001b[1;32m      6\u001b[0m     \u001b[0mcur\u001b[0m\u001b[0;34m.\u001b[0m\u001b[0mexecutemany\u001b[0m\u001b[0;34m(\u001b[0m\u001b[0;34m\"INSERT INTO Rest_inf VALUES(?,?,?,?,?,?,?,?,?)\"\u001b[0m\u001b[0;34m,\u001b[0m \u001b[0minfo\u001b[0m\u001b[0;34m)\u001b[0m\u001b[0;34m\u001b[0m\u001b[0m\n\u001b[1;32m      7\u001b[0m \u001b[0;34m\u001b[0m\u001b[0m\n",
      "\u001b[0;31mOperationalError\u001b[0m: table Rest_inf already exists"
     ]
    }
   ],
   "source": [
    "con = lite.connect('T4T.db')\n",
    "\n",
    "with con:\n",
    "    cur = con.cursor()\n",
    "    cur.execute(\"CREATE TABLE Rest_inf(Id INTEGER PRIMARY KEY, Name TEXT, Article TEXT, Street TEXT, Latitude FLOAT, Longitude FLOAT, Telephone TEXT, Date TEXT, Text TEXT)\");\n",
    "    cur.executemany(\"INSERT INTO Rest_inf VALUES(?,?,?,?,?,?,?,?,?)\", info)"
   ]
  },
  {
   "cell_type": "code",
   "execution_count": 53,
   "metadata": {
    "collapsed": false
   },
   "outputs": [
    {
     "name": "stdout",
     "output_type": "stream",
     "text": [
      "('Okonomi / Yuji Ramen', '150 Ainslie St., Brooklyn ', '2016/04/18')\n",
      "('Ganso Yaki', '515 Atlantic Ave., Brooklyn ', '2015/09/14')\n",
      "('Shalom Japan', '310 S. 4th St., Brooklyn ', '2013/10/21')\n",
      "('Stonehome Wine Bar', '87 Lafayette Ave., Brooklyn ', '2007/12/03')\n"
     ]
    }
   ],
   "source": [
    "with con:\n",
    "    for row in cur.execute(\"SELECT Name, Street, Date FROM Rest_inf WHERE Text LIKE '%ramen%' AND Street LIKE '%Brooklyn%' ORDER BY Date desc LIMIT 10 \"):\n",
    "        print(row)"
   ]
  },
  {
   "cell_type": "code",
   "execution_count": 32,
   "metadata": {
    "collapsed": true
   },
   "outputs": [],
   "source": [
    "testName = ['kin shop', 'momofuku nishi', 'death by ramen', 'hudson crossing', 'burger king']"
   ]
  },
  {
   "cell_type": "code",
   "execution_count": 36,
   "metadata": {
    "collapsed": false
   },
   "outputs": [
    {
     "name": "stdout",
     "output_type": "stream",
     "text": [
      "['Okonomi / Yuji Ramen', 'Momofuku Nishi', 'The Cecil', 'High Street on Hudson', 'Han Dynasty', 'Abyssinia', 'Murray’s Cheese Bar', 'El Cortez', 'Avra Estiatorio', 'Llama Inn']\n",
      "788\n"
     ]
    }
   ],
   "source": [
    "print(RestNames[0:10])\n",
    "print(len(RestNames))"
   ]
  },
  {
   "cell_type": "code",
   "execution_count": 39,
   "metadata": {
    "collapsed": false
   },
   "outputs": [
    {
     "name": "stdout",
     "output_type": "stream",
     "text": [
      "Death by Ramen\n",
      "Wizards from Oz\n",
      "Iris Café Store #9\n",
      "The Sandwich Moment\n",
      "Chelsea Market Openings\n",
      "Calliope\n",
      "La Mar Cebichería Peruana\n",
      "What Happens When\n",
      "Permanent Brunch\n",
      "Brooklyn Bowl\n",
      "Sau Voi Corp. And Baoguette/Pho Sure\n",
      "Civetta\n",
      "Chop Suey\n",
      "Tailor\n",
      "Zipper Factory Tavern\n",
      "Nono Kitchen\n",
      "BISTRO DU VENT\n",
      "Vinny Vincenz’s Pizzamobile\n",
      "Maremma\n",
      "Brandy Library\n",
      "Onera\n",
      "Tony Luke’s\n",
      "Couvron\n",
      "Lo Scalco\n",
      "Dévi\n",
      "Petrosino\n",
      "American Girl Café\n",
      "T Salon\n",
      "Tubby Hook Café\n",
      "Ida Mae Kitchen-n-Lounge\n",
      "RM\n",
      "Café Lebowitz\n",
      "La Caravelle\n",
      "Spa 88\n",
      "Silver Moon Bakery\n",
      "Maroons\n",
      "Aka Café\n",
      "La Côte Basque\n",
      "Bouterin\n",
      "Tables for Two\n",
      "Tables for Two\n",
      "Tables for Two\n",
      "Tables for Two\n",
      "Tables for Two\n",
      "Tables for Two\n",
      "Tables for Two\n",
      "Tables for Two\n",
      "Tables for Two\n",
      "Tables for Two\n",
      "Tables for Two\n",
      "Tables for Two\n",
      "Tables for Two\n",
      "Tables for Two\n",
      "Tables for Two\n",
      "Tables for Two\n",
      "Tables for Two\n",
      "Tables for Two\n",
      "Tables for Two\n",
      "Tables for Two\n",
      "Tables for Two\n",
      "Tables for Two\n",
      "Tables for Two\n",
      "Tables for Two\n",
      "Tables for Two\n",
      "Tables for Two\n",
      "Tables for Two\n",
      "Tables for Two\n",
      "Tables for Two\n",
      "Tables for Two\n",
      "Tables for Two\n",
      "Tables for Two\n",
      "Tables for Two\n",
      "Tables for Two\n",
      "Tables for Two\n",
      "Tables for Two\n",
      "Tables for Two\n",
      "Tables for Two\n",
      "Tables for Two\n",
      "Tables for Two\n",
      "Tables for Two\n",
      "Tables for Two\n",
      "Tables for Two\n",
      "Tables for Two\n",
      "Tables for Two\n",
      "Tables for Two\n",
      "Tables for Two\n",
      "Tables for Two\n",
      "Tables for Two\n",
      "Tables for Two\n",
      "Tables for Two\n",
      "Tables for Two\n",
      "Tables for Two\n",
      "Tables for Two\n",
      "Tables for Two\n",
      "Tables for Two\n",
      "Tables for Two\n",
      "Tables for Two\n",
      "Tables for Two\n",
      "Tables for Two\n",
      "Tables for Two\n",
      "Tables for Two\n",
      "Tables for Two\n",
      "Tables for Two\n",
      "Tables for Two\n",
      "Tables for Two\n",
      "Tables for Two\n",
      "CHILD OF CABARET\n",
      "Lightest Before Dawn\n",
      "1959_12_12_157_TNY_CARDS_000064382\n",
      "1959_02_14_090_TNY_CARDS_000065136\n",
      "1958_01_25_113_TNY_CARDS_000059092\n",
      "1957_11_02_141_TNY_CARDS_000057100\n",
      "1957_10_05_125_TNY_CARDS_000057435\n",
      "1957_08_10_075_TNY_CARDS_000058726\n",
      "1957_05_18_104_TNY_CARDS_000054799\n",
      "1957_04_20_140_TNY_CARDS_000051986\n",
      "1957_03_16_103_TNY_CARDS_000052341\n",
      "1956_12_29_050_TNY_CARDS_000058126\n",
      "1956_11_10_139_TNY_CARDS_000056375\n",
      "1956_10_13_134_TNY_CARDS_000054645\n",
      "1956_06_16_054_TNY_CARDS_000052168\n",
      "1956_05_12_168_TNY_CARDS_000056435\n",
      "1956_04_07_143_TNY_CARDS_000056092\n",
      "1956_03_03_108_TNY_CARDS_000053810\n",
      "1956_01_28_070_TNY_CARDS_000053481\n",
      "1955_12_31_043_TNY_CARDS_000056255\n",
      "1955_12_03_215_TNY_CARDS_000050697\n",
      "TABLES FOR TWO\n",
      "1955_10_08_135_TNY_CARDS_000051954\n",
      "1955_07_30_062_TNY_CARDS_000052788\n",
      "1955_06_11_079_TNY_CARDS_000049413\n",
      "1955_04_30_101_TNY_CARDS_000047406\n",
      "1955_03_26_091_TNY_CARDS_000049370\n",
      "1955_03_05_096_TNY_CARDS_000047246\n",
      "1955_01_29_048_TNY_CARDS_000050185\n",
      "1954_12_04_155_TNY_CARDS_000049380\n",
      "1954_11_20_196_TNY_CARDS_000051499\n",
      "1954_10_23_149_TNY_CARDS_000049491\n",
      "1954_10_09_165_TNY_CARDS_000045935\n",
      "1954_06_19_090_TNY_CARDS_000045930\n",
      "1954_05_01_097_TNY_CARDS_000050175\n",
      "1954_04_03_116_TNY_CARDS_000049773\n",
      "1954_03_06_064_TNY_CARDS_000048922\n",
      "1954_02_06_089_TNY_CARDS_000045608\n",
      "1954_01_02_053_TNY_CARDS_000046897\n",
      "1953_12_12_113_TNY_CARDS_000046676\n",
      "1953_11_14_175_TNY_CARDS_000042760\n",
      "1953_10_17_147_TNY_CARDS_000046115\n",
      "1953_02_21_089_TNY_CARDS_000039475\n",
      "TABLES FOR TWO.\n",
      "1943_12_25_047_TNY_CARDS_000196045\n",
      "\"Tables for Two.\"\n"
     ]
    }
   ],
   "source": [
    "# for each restaurant, submit to google places query to return latitude and longitude\n",
    "# 32200 m radius = 20 mile radius from the center of central park [@ 40.7841,-73.9661]\n",
    "T4Tout = open('T4T_restlist.txt', 'w')\n",
    "\n",
    "lead = 'https://maps.googleapis.com/maps/api/place/nearbysearch/json?location=40.7841,-73.9661&radius=32200&type=restaurant'\n",
    "with open('key.txt') as f:\n",
    "    key = f.readlines()\n",
    "\n",
    "for item in RestNames:\n",
    "    name = '&name=' + item.replace(\" \", \"%20\")\n",
    "    query = lead + name + key\n",
    "    resp_json_payload = requests.get(query).json()\n",
    "    if len(resp_json_payload['results']) == 0:\n",
    "        print(item)\n",
    "        continue\n",
    "    else:\n",
    "        T4Tout.write(item)\n",
    "        T4Tout.write(\"\\t\")\n",
    "        T4Tout.write(str(resp_json_payload['results'][0]['geometry']['location']))\n",
    "        T4Tout.write(\"\\n\")\n",
    "\n",
    "T4Tout.close()"
   ]
  },
  {
   "cell_type": "code",
   "execution_count": 49,
   "metadata": {
    "collapsed": false
   },
   "outputs": [
    {
     "name": "stdout",
     "output_type": "stream",
     "text": [
      "[['Okonomi / Yuji Ramen', 40.7125377, -73.948781, 1], ['Momofuku Nishi', 40.7443485, -73.9988078, 2], ['The Cecil', 40.8047705, -73.952519, 3], ['High Street on Hudson', 40.7388849, -74.005693, 4], ['Han Dynasty', 40.7322262, -73.9882804, 5], ['Abyssinia', 40.8160287, -73.9460698, 6], ['Murray‚Äôs Cheese Bar', 40.731215, -74.003164, 7], ['El Cortez', 40.707104, -73.933081, 8], ['Avra Estiatorio', 40.755118, -73.9725204, 9], ['Llama Inn', 40.7166288, -73.9504256, 10], ['Vaucluse', 40.7650839, -73.9677516, 11], ['Houseman', 40.7257281, -74.0093323, 12], ['Lowlife', 40.7202093, -73.9839799, 13], ['Babu Ji', 40.7274843, -73.9791939, 14], ['Quality Eats', 40.7344783, -74.0001118, 15], ['Oiji', 40.727263, -73.985845, 16], ['Le Veau d‚ÄôOr', 40.7631743, -73.9681073, 17], ['Avant Garden', 40.726112, -73.983963, 18], ['Sushi Azabu / Azabu', 40.72243, -74.0099244, 19], ['Virginia‚Äôs', 40.7266747, -73.9772465, 20], ['Bruno', 40.7322828, -73.9873456, 21], ['Gabriel Kreuther', 40.7545385, -73.9824993, 22], ['Jams', 40.7647337, -73.9765262, 23], ['Timna', 40.7271969, -73.9839263, 24], ['Seamore‚Äôs', 40.7206673, -73.99691, 25], ['Brooklyn Bavarian Biergarten', 40.6638453, -73.9894115, 26], ['Superiority Burger', 40.7274495, -73.9836228, 27], ['Wildair', 40.7200288, -73.9891537, 28], ['Mulino a Vino', 40.7406711, -74.0042437, 29], ['Ganso Yaki', 40.6855052, -73.980382, 30], ['Faro', 40.707428, -73.922845, 31], ['Little Park', 40.7152366, -74.0091553, 32], ['The Black Ant', 40.725716, -73.9892979, 33], ['Shuko', 40.7336366, -73.9916129, 34], ['Chomp Chomp', 40.7317455, -74.0016683, 35], ['Charlie Palmer at the Knick', 40.7554172, -73.9862223, 36], ['Rosie‚Äôs', 40.72494, -73.990821, 37], ['The Four Horsemen', 40.713084, -73.957334, 38], ['Lupulo', 40.7468785, -73.9902168, 39], ['Gaia Italian Caf√©', 40.7216887, -73.9853325, 40], ['Streetbird', 40.804356, -73.9556935, 41], ['Rebelle', 40.7219651, -73.9937594, 42], ['Astoria Seafood', 40.754094, -73.9298302, 43], ['Momofuku Ko', 40.7248446, -73.9916604, 44], ['Racines NY', 40.7145751, -74.0075586, 45], ['El Rey Coffee Bar & Luncheonette', 40.7213902, -73.9879719, 46], ['Noreetuh', 40.7272642, -73.9851971, 47], ['Bar Bolonat', 40.7376571, -74.0058562, 48], ['\"Pizza, Pizza\"', 40.704038, -74.010478, 49], ['Javelina', 40.7368197, -73.9874428, 50], ['Happy Ending', 40.7189086, -73.9922188, 51], ['The Polo Bar', 40.7617135, -73.9743749, 52], ['Caf√© Clover', 40.729537, -74.002681, 53], ['Tuome', 40.7239978, -73.9829489, 54], ['Stella 34', 40.75033, -73.9883415, 55], ['Cosme', 40.7396162, -73.9883565, 56], ['Beijing Pop Kabob', 40.7178094, -73.997949, 57], ['The Eddy', 40.7264545, -73.98667, 58], ['Via Carota', 40.7331438, -74.0036545, 59], ['Greenpoint Fish & Lobster Co.', 40.7241445, -73.9490889, 60], ['Balvanera', 40.7206331, -73.985392, 61], ['La Savane', 40.804238, -73.9542159, 62], ['Awadh', 40.7955935, -73.9707039, 63], ['Turntable Mad for Chicken', 40.7470914, -73.9858429, 64], ['Shun Lee West', 40.7728366, -73.9813891, 65], ['Upland', 40.7418518, -73.9847725, 66], ['White Street', 40.7191375, -74.0060979, 67], ['King Bee', 40.727626, -73.983761, 68], ['Nobu New York', 40.719455, -74.0089232, 69], ['Emmett‚Äôs', 40.7273246, -74.0024635, 70], ['Brooklyn Beet Company', 40.63327, -74.026695, 71], ['Dirty French', 40.721946, -73.987285, 72], ['Gotham West Market', 40.7622707, -73.9967042, 73], ['Hometown Bar-B-Que', 40.674858, -74.016021, 74], ['Dimes', 40.7149638, -73.9915464, 75], ['The Gorbals', 40.7184749, -73.9606674, 76], ['√âlan', 40.7388132, -73.9884539, 77], ['B√¢tard', 40.7195598, -74.0057489, 78], ['The Pavilion Market Cafe', 40.7364469, -73.9899162, 79], ['Rockaway Beach Surf Club', 40.5888048, -73.8121584, 80], ['Two if by Sea', 40.7324849, -74.002593, 81], ['Barchetta', 40.7476268, -74.0035374, 82], ['Beyond Beirut', 40.7302657, -73.9830192, 83], ['Schmear Campaign', 40.7209046, -73.9946778, 84], ['The Runner', 40.677235, -73.985999, 85], ['Tavern on the Green', 40.7721848, -73.9777806, 86], ['Margaux', 40.7326695, -73.9967114, 87], ['Navy', 40.726811, -74.0018583, 88], ['Pickle Shack', 40.6764663, -73.9839604, 89], ['Bunker', 40.713963, -73.9213473, 90], ['Gato', 40.7255794, -73.9952599, 91], ['The Writing Room', 40.779455, -73.950926, 92], ['Little Lamb', 40.7622731, -73.8290405, 93], ['Willow Road', 40.743353, -74.008021, 94], ['Telepan Local', 40.77516, -73.979926, 95], ['Narcissa', 40.727868, -73.990755, 96], ['Contra', 40.7199073, -73.9891596, 97], ['All‚ÄôOnda', 40.734742, -73.993104, 98], ['Foragers City Table', 40.7446215, -73.9993866, 99], ['Betony', 40.7641992, -73.9762526, 100], ['Empire Diner', 40.7470924, -74.0043727, 101], ['Saul', 40.6711464, -73.963496, 102], ['Fung Tu', 40.7153193, -73.9914126, 103], ['Rotisserie Georgette', 40.764315, -73.9716858, 104], ['Caf√© Nadery', 40.7325172, -73.9975116, 105], ['Khe-Yo', 40.7169041, -74.0085972, 106], ['Aita', 40.6864843, -73.9666208, 107], ['Sushi Nakazawa', 40.7317831, -74.0045627, 108], ['Piora', 40.7306321, -74.0065901, 109], ['The Lambs Club', 40.7565107, -73.9846411, 110], ['Charlie Bird', 40.7277293, -74.0029058, 111], ['Sk√°L', 40.7147797, -73.9909249, 112], ['Marco‚Äôs', 40.7377171, -73.9813949, 113], ['Hunan Manor', 40.74963, -73.977045, 114], ['Toro', 40.743353, -74.008021, 115], ['City Grit', 40.722922, -73.9952265, 116], ['Glasserie', 40.737722, -73.9561763, 117], ['Shalom Japan', 40.7091953, -73.955883, 118], ['Uncle Boons', 40.7212894, -73.994373, 119], ['Chez Jos√©', 40.7114518, -73.9578567, 120], ['Luksus', 40.7234209, -73.9507884, 121], ['Atrium', 41.0443691, -73.6893904, 122], ['Umami Burger', 40.734368, -73.998456, 123], ['Corvo Bianco', 40.783664, -73.9745372, 124], ['The Elm', 40.7209522, -73.9556741, 125], ['Estela', 40.7246413, -73.994739, 126], ['Abc Cocina', 40.7379803, -73.9892841, 127], ['The Cleveland', 40.7218025, -73.9970961, 128], ['Antica Pesa', 40.718802, -73.9585885, 129], ['Alder', 40.7297315, -73.9871813, 130], ['Lafayette', 40.7275934, -73.9937017, 131], ['Melibea', 40.7370662, -74.001691, 132], ['Hanjan', 40.7442454, -73.9906152, 133], ['Carbone', 40.7279756, -74.0002192, 134], ['M. Wells Dinette', 40.7455676, -73.9470602, 135], ['Pearl & Ash', 40.9793465, -74.1203727, 136], ['Prospect', 40.6861829, -73.9737317, 137], ['Le Philosophe', 40.7257082, -73.9926724, 138], ['Chez Sardine', 40.7343859, -74.0027561, 139], ['Mighty Quinn‚Äôs And John Brown Smokehouse', 40.7275864, -73.9886757, 140], ['The Pines', 40.6774069, -73.9862439, 141], ['Aamanns-Copenhagen', 40.7216434, -74.0058629, 142], ['Arlington Club', 40.7715683, -73.9616992, 143], ['The Marrow', 40.7366596, -74.0063594, 144], ['Aska', 40.7217263, -73.9582683, 145], ['Gaonnuri', 40.7477417, -73.9878746, 146], ['Jones Wood Foundry', 40.7703352, -73.9536147, 147], ['Ngam', 40.732274, -73.9876284, 148], ['Mayfield', 40.6749679, -73.9566749, 149], ['L‚ÄôApicio', 40.724452, -73.9915614, 150], ['El Toro Blanco', 40.7290016, -74.0028432, 151], ['Pig And Khao', 40.7192889, -73.9848269, 152], ['La Vara', 40.6878015, -73.9957536, 153], ['Ootoya', 40.7548831, -73.9859796, 154], ['Allswell', 40.7196611, -73.955966, 155], ['Chop Shop', 40.7486895, -74.0031554, 156], ['Bobwhite Lunch & Supper Counter', 40.7236452, -73.9789804, 157], ['Rosemary‚Äôs', 40.7348221, -73.999831, 158], ['The Toucan And the Lion', 40.7264381, -73.9866046, 159], ['Bistro Petit', 40.711825, -73.961219, 160], ['Parish Hall', 40.7168176, -73.961622, 161], ['Swine', 40.7342467, -74.0064306, 162], ['Hospoda', 40.7691357, -73.9564028, 163], ['Mission Chinese Food', 40.7138638, -73.9896787, 164], ['Reynards', 40.7220175, -73.9579519, 165], ['Il Buco Alimentari E Vineria', 40.7265231, -73.992501, 166], ['Yunnan Kitchen', 40.7189251, -73.9852949, 167], ['Catch', 40.740103, -74.006193, 168], ['Brooklyn Crab', 40.6753539, -74.0165422, 169], ['Biang!', 40.7297208, -73.9871891, 170], ['Super Linda', 40.7160846, -74.0085768, 171], ['Perla', 40.734322, -74.0032389, 172], ['Joanne Trattoria', 40.77458, -73.980238, 173], ['La Promenade Des Anglais', 40.7475828, -74.0035305, 174], ['Francesca', 40.895892, -73.778547, 175], ['Pok Pok Ny', 40.6875976, -74.0012512, 176], ['Alison Eighteen', 40.7390765, -73.9928775, 177], ['Gwynnett St', 40.713294, -73.9438733, 178], ['The Bowery Diner', 40.7224992, -73.9928523, 179], ['Atera', 40.7169139, -74.0054324, 180], ['Thirstbar√†Vin', 40.679109, -73.9583451, 181], ['Littleneck', 40.6773121, -73.9863025, 182], ['Wong', 40.7162159, -73.9983124, 183], ['North End Grill', 40.7153683, -74.0154521, 184], ['Acme', 40.7272262, -73.9940357, 185], ['The Cannibal', 40.7437199, -73.9826979, 186], ['Talde', 40.6655453, -73.9825136, 187], ['Caff√® Storico', 40.7792645, -73.9741937, 188], ['Kutsher‚Äôs Tribeca', 40.7195722, -74.0096345, 189], ['Rouge Et Blanc', 40.7272819, -74.0025195, 190], ['Battersby', 40.6831333, -73.9927, 191], ['Isa', 40.7141435, -73.9653175, 192], ['Ciano', 40.7398097, -73.9873482, 193], ['Nights And Weekends', 40.7237767, -73.9511156, 194], ['David Burke Kitchen', 40.7228066, -74.0049013, 195], ['Do or Dine', 40.6867539, -73.9547965, 196], ['Whitehall', 40.922533, -74.343673, 197], ['Tertulia', 40.73227, -74.000848, 198], ['Boulud Sud', 40.7715807, -73.9811807, 199], ['The Beagle', 40.7281054, -73.9818799, 200], ['Redfarm', 40.782092, -73.980633, 201], ['Untitled', 40.7395846, -74.0089676, 202], ['Buvette', 40.7326242, -74.0043225, 203], ['Kajitsu', 40.7498632, -73.9777147, 204], ['Monument Lane', 40.7378016, -74.0020412, 205], ['The Leopard at Des Artistes', 40.7734557, -73.978853, 206], ['St. Anselm', 40.7142631, -73.9560616, 207], ['Miss Lily‚Äôs Favourite Cakes', 40.727946, -74.001393, 208], ['Earl‚Äôs Beer & Cheese', 40.787375, -73.951633, 209], ['Legend Bar & Restaurant', 40.7395867, -73.9991958, 210], ['Maison Premiere', 40.714269, -73.961715, 211], ['Empell√≥n', 40.7341478, -74.0030756, 212], ['The Dutch', 40.726522, -74.0021346, 213], ['Brushstroke', 40.7166414, -74.0089421, 214], ['Imperial No. Nine', 40.7198274, -74.0000839, 215], ['The Castello Plan', 40.640384, -73.966602, 216], ['The Highliner', 40.7471112, -74.0043906, 217], ['The Smile', 40.7266349, -73.9935508, 218], ['Danji', 40.7640344, -73.9868499, 219], ['Roberta‚Äôs', 40.7050766, -73.9335923, 220], ['Fishtag', 40.783363, -73.9794342, 221], ['Bell Book & Candle', 40.7347337, -74.0008942, 222], ['Ai Fiori', 40.7502014, -73.9837903, 223], ['Gentleman Farmer', 40.7211119, -73.99108, 224], ['The John Dory Oyster Bar', 40.7458198, -73.988434, 225], ['Lyon', 40.7121063, -74.2174986, 226], ['M. Wells', 40.7485158, -73.9422488, 227], ['Tortilleria Nixtamal', 40.7459066, -73.8593673, 228], ['Porsena', 40.7287255, -73.9894062, 229], ['Lincoln', 40.7733667, -73.9835466, 230], ['Red Rooster Harlem', 40.8080223, -73.944821, 231], ['Edi & the Wolf', 40.7238208, -73.9788238, 232], ['Kin Shop', 40.7357024, -73.9983775, 233], ['Seersucker', 40.680596, -73.9943915, 234], ['Bab Al Yemen', 40.6344829, -74.0229958, 235], ['Riverpark', 40.7395633, -73.97375, 236], ['Hung Ry', 40.828589, -73.9165807, 237], ['Annisa', 40.7325755, -74.0024429, 238], ['Bohemian', 40.7264133, -73.9923574, 239], ['Rubirosa', 40.7227528, -73.996233, 240], ['Takashi', 40.7314041, -74.0064551, 241], ['Millesime', 40.744486, -73.98558, 242], ['Jeffrey‚Äôs Grocery', 40.7339819, -74.0013788, 243], ['The Fat Radish', 40.715246, -73.9918564, 244], ['Umi Nom', 40.6905056, -73.9600464, 245], ['Northern Spy Food Co.', 40.7289067, -73.9806226, 246], ['Beer Table', 40.6263055, -74.3068361, 247], ['The Chef‚Äôs Table at Brooklyn Fare', 40.688649, -73.9858978, 248], ['Vandaag', 40.7275574, -73.9886639, 249], ['Il Matto', 40.7225373, -73.983879, 250], ['Rabbit in the Moon', 40.9157763, -73.7708006, 251], ['Mile End', 40.6874553, -73.9870655, 252], ['Fatty ‚ÄôCue', 40.7109716, -73.9648564, 253], ['Hecho En Dumbo', 40.7268774, -73.9919636, 254], ['The Lion', 40.733814, -73.9987421, 255], ['Balaboosta', 40.7221855, -73.9960662, 256], ['The Plaza Food Hall', 40.7646084, -73.9743392, 257], ['New for Fall', 40.7420761, -73.9853896, 258], ['Lina Frey', 40.7224003, -73.9875078, 259], ['M√° P√™Che', 40.762802, -73.9755103, 260], ['Luke‚Äôs Lobster', 40.703483, -73.9941382, 261], ['Pulino‚Äôs Bar And Pizzeria', 40.7240971, -73.9930672, 262], ['Kaz an Nou', 40.6811496, -73.974192, 263], ['Torrisi Italian Specialties', 40.7230958, -73.9956581, 264], ['This Little Piggy Had Roast Beef', 40.7284231, -73.9849752, 265], ['The Crosby Bar', 40.7230823, -73.9973532, 266], ['Tanoreen', 40.6308256, -74.0278464, 267], ['Faustina', 40.7279316, -73.9907857, 268], ['Pies ‚ÄôN‚Äô Thighs', 40.711183, -73.9613664, 269], ['The Mark Restaurant', 40.775269, -73.9633901, 270], ['K! Pizzacone', 40.7473468, -73.985, 271], ['Mari Vanna', 40.7388749, -73.988511, 272], ['Abc Kitchen', 40.7377582, -73.989625, 273], ['Casa Lever', 40.7595244, -73.9730768, 274], ['La Sir√®ne', 40.7245433, -74.0056666, 275], ['Recette', 40.737409, -74.006613, 276], ['Village Tart', 40.7211172, -73.9967273, 277], ['Roman‚Äôs', 40.6896069, -73.9694989, 278], ['Le Caprice', 40.765301, -73.972256, 279], ['A Voce Columbus', 40.767899, -73.982939, 280], ['Corsino', 40.7388645, -74.0057454, 281], ['Colicchio & Sons', 40.7432243, -74.0077639, 282], ['The Standard Grill', 40.7406769, -74.0078763, 283], ['Maialino', 40.7385232, -73.9857366, 284], ['The Breslin', 40.7455679, -73.9880891, 285], ['Le Relais De Venise L‚ÄôEntrec√¥te', 40.7576914, -73.9718188, 286], ['Piccola Cucina', 40.7250354, -74.0032482, 287], ['Fort Defiance', 40.676611, -74.013543, 288], ['Tipsy Parson', 40.7442597, -74.0026699, 289], ['Joseph Leonard', 40.7335794, -74.0016967, 290], ['Sushi Uo', 40.7192821, -73.9854819, 291], ['Bark Hot Dogs', 40.6807911, -73.975644, 292], ['The Vanderbilt', 40.679566, -73.968332, 293], ['Aureole', 40.755633, -73.985258, 294], ['Quinto Quarto', 40.72911, -74.0034492, 295], ['Prime Meats', 40.6771731, -73.9981789, 296], ['Saraghina', 40.683621, -73.9353597, 297], ['Sho Shaun Hergatt', 40.7059308, -74.0117682, 298], ['The Brooklyn Star', 40.7145897, -73.9496277, 299], ['Warren 77', 40.7150801, -74.0103305, 300], ['Gus And Gabriel', 40.783312, -73.979466, 301], ['Locanda Verde', 40.7199233, -74.0099233, 302], ['Marea', 40.7674054, -73.9810568, 303], ['Hotel Griffou', 40.733426, -73.9970032, 304], ['Belcourt', 40.7262067, -73.9897159, 305], ['Dbgb', 40.7243801, -73.9921432, 306], ['Seasonal', 40.76232, -73.976755, 307], ['Harbour', 40.9323653, -73.7595252, 308], ['Sorella', 40.7187453, -73.9909638, 309], ['Minetta Tavern', 40.7299922, -74.0006201, 310], ['Armani / Ristorante', 40.7618891, -73.974178, 311], ['La Fonda Del Sol', 40.753412, -73.976601, 312], ['Gottino And Wilfie & Nell', 40.7340539, -74.0031284, 313], ['Socarrat', 40.7553245, -73.9685122, 314], ['Bar Breton', 40.7449288, -73.9875372, 315], ['Delicatessen', 40.723558, -73.996368, 316], ['Shang', 40.7221392, -73.9882654, 317], ['Vinegar Hill House', 40.702755, -73.9812884, 318], ['Schnipper‚Äôs Quality Kitchen', 40.7564478, -73.9902017, 319], ['Walter Foods', 40.713555, -73.958551, 320], ['Co.', 40.7471434, -74.0005236, 321], ['Lulu', 40.693039, -73.972968, 322], ['Corton', 40.7195598, -74.0057489, 323], ['Buttermilk Channel', 40.675998, -73.9992285, 324], ['10 Downing Food & Wine', 40.729537, -74.002681, 325], ['L‚ÄôArtusi', 40.7338018, -74.00515, 326], ['The John Dory', 40.7458198, -73.988434, 327], ['Txikito', 40.7473685, -74.0003645, 328], ['Graffiti', 40.72905, -73.9856179, 329], ['Braeburn', 40.7352051, -74.0068181, 330], ['Dirt Candy', 40.7179032, -73.9907238, 331], ['Flex Mussels', 40.7763184, -73.9564863, 332], ['Caf√© Select', 40.7218158, -73.9979244, 333], ['Irving Mill', 40.7354396, -73.9884795, 334], ['JoeDoe', 40.7237362, -73.989948, 335], ['Secession', 40.7168191, -74.0092703, 336], ['Char No. 4', 40.6850666, -73.9917638, 337], ['Libertine', 40.707894, -74.007108, 338], ['Convivio', 40.681043, -73.977509, 339], ['Allegretti', 40.7417046, -73.9924653, 340], ['Yerba Buena', 40.7229834, -73.9861262, 341], ['Matsugen', 40.7174008, -74.0057854, 342], ['Apiary', 40.7311967, -73.9889608, 343], ['No. 7', 40.6860065, -73.9730868, 344], ['James', 40.679016, -73.9714834, 345], ['Nizza', 40.7599294, -73.9911436, 346], ['I Sodi', 40.733447, -74.0050074, 347], ['General Greene', 40.6896903, -73.970327, 348], ['Square Meal', 40.7846831, -73.9563204, 349], ['The New French', 40.721946, -73.987285, 350], ['Shalizar and Ravagh', 40.7456526, -73.9854899, 351], ['Scarpetta', 40.7409379, -74.0048141, 352], ['Rhong-Tiam', 40.7396266, -73.9884746, 353], ['Eighty One', 40.785791, -73.978148, 354], ['Adour', 40.7613533, -73.974625, 355], ['Blue Ribbon Downing Street Bar', 40.7291792, -74.003888, 356], ['Ago', 40.7198617, -74.0100406, 357], ['BAR Q', 41.002155, -73.662426, 358], ['Bar Boulud', 40.771904, -73.981955, 359], ['Mia Dona', 40.7606096, -73.9665116, 360], ['Caf√© Katja', 40.7176814, -73.9905954, 361], ['Elettaria', 40.7330651, -73.9980058, 362], ['Commerce', 40.7317831, -74.0045627, 363], ['Spicy & Tasty', 40.7404865, -74.0060568, 364], ['South Gate', 40.7662867, -73.9780237, 365], ['Bobo', 40.7344365, -74.0026147, 366], ['Allen & Delancey', 40.760109, -73.9890741, 367], ['Dovetail', 40.7809408, -73.9766199, 368], ['Egg', 40.716719, -73.9616842, 369], ['Market Table', 40.729731, -74.0037198, 370], ['Smith‚Äôs', 40.7715041, -73.9818558, 371], ['Park Avenue Winter', 40.7420761, -73.9853896, 372], ['Fiamma', 40.7635436, -73.7698893, 373], ['The Smith', 40.7715041, -73.9818558, 374], ['Dell‚ÄôAnima', 40.7379835, -74.0040368, 375], ['Omido', 40.7636912, -73.9828851, 376], ['Bar Blanc', 40.7272819, -74.0025195, 377], ['Toloache', 40.7764631, -73.9566962, 378], ['Peri Ela', 40.782268, -73.953352, 379], ['Back Forty', 40.723764, -73.996908, 380], ['Kyo Ya', 40.7266668, -73.9853554, 381], ['Stonehome Wine Bar', 40.6873947, -73.9748764, 382], ['BLT Market', 40.7653959, -73.9762005, 383], ['Ta√Øm', 40.7359917, -74.0019716, 384], ['Kefi', 40.7852842, -73.9726622, 385], ['El Quinto Pino', 40.747426, -74.0011844, 386], ['Wakiya', 40.7405211, -73.9917283, 387], ['Zenkichi', 40.7189772, -73.960848, 388], ['Gemma', 40.7260522, -73.9915383, 389], ['Borough Food & Drink', 40.687531, -73.957164, 390], ['P*ong', 40.7344375, -74.0011566, 391], ['Marlow & Sons', 40.7106731, -73.9656532, 392], ['Hill Country', 40.7442885, -73.9904687, 393], ['Ramen Setagaya', 40.8520797, -73.9719336, 394], ['Caf√© St. Bart‚Äôs', 40.7571324, -73.9734317, 395], ['Insieme', 40.7614104, -73.982782, 396], ['Flatbush Farm & the Farm on Adderley', 40.6797904, -73.9747283, 397], ['Casellula', 40.7649877, -73.9883163, 398], ['Perilla', 40.732343, -74.0022209, 399], ['Provence', 40.6829577, -73.9928824, 400], ['Palo Santo', 40.6767825, -73.9819417, 401], ['Ed‚Äôs Lobster Bar', 40.7220477, -73.9976238, 402], ['Mercat', 40.7259614, -73.9929858, 403], ['Anthos', 40.7602207, -73.9774834, 404], ['Brown Caf√©', 40.7158587, -73.9903423, 405], ['Lunetta', 40.762412, -73.959599, 406], ['Morandi', 40.7354058, -74.0014786, 407], ['Rosanjin', 40.716488, -74.0077507, 408], ['Klee', 40.7459431, -74.0015021, 409], ['Sripraphai', 40.7464564, -73.8992299, 410], ['Amorina', 40.6775322, -73.9691421, 411], ['Falai', 40.7235037, -73.9964472, 412], ['Dressler', 40.7104294, -73.9631219, 413], ['The Waverly Inn & Garden', 40.7369088, -74.0022139, 414], ['Trestle On Tenth', 40.748374, -74.003373, 415], ['Centovini', 40.7257685, -73.9979684, 416], ['Kampuchea Noodle Bar', 40.7204376, -73.9893125, 417], ['Bar Martignetti', 40.7209946, -73.9977746, 418], ['BLT Burger', 40.7092532, -74.0137364, 419], ['Caf√© Cluny', 40.737479, -74.004032, 420], ['THE RUSSIAN TEA ROOM', 40.7649476, -73.9794337, 421], ['BOQUERIA', 40.7402561, -73.9937286, 422], ['MAX BRENNER', 40.7344163, -73.991137, 423], ['PAPATZUL', 40.7221352, -74.0037032, 424], ['BRIDGE CAF√â', 40.703684, -73.994861, 425], ['ZUCCO: LE FRENCH DINER', 40.7220162, -73.9880246, 426], ['BELLAVITAE', 40.7304498, -74.0013126, 427], ['L‚ÄôATELIER DE JO√ãL ROBUCHON', 40.7621879, -73.9716063, 428], ['CAF√â D‚ÄôALSACE', 40.7791752, -73.9510411, 429], ['THE TASTING ROOM', 40.7169707, -73.9428395, 430], ['MOMOFUKU SS√ÑM BAR', 40.7316512, -73.9856929, 431], ['DIRTY BIRD', 40.7160375, -74.0099956, 432], ['DITCH PLAINS', 40.7292062, -74.0038015, 433], ['USHIWAKAMARU', 40.728041, -74.0014909, 434], ['CHINATOWN BRASSERIE', 40.7276061, -73.9935849, 435], ['THE LITTLE OWL', 40.7324143, -74.0053095, 436], ['Craftsteak', 40.7381658, -73.9886678, 437], ['Sfoglia', 40.7835734, -73.9528093, 438], ['Crema', 40.7396641, -73.9960342, 439], ['Turks & Frogs Tribeca', 40.735755, -74.0073809, 440], ['Rack & Soul', 40.5497283, -74.3365274, 441], ['The Good Fork', 40.6759592, -74.0142781, 442], ['BG', 40.7634763, -73.9740989, 443], ['PRE:POST', 40.7509977, -74.0044158, 444], ['MR. CHOW TRIBECA', 40.7201402, -74.0087472, 445], ['Degustation', 40.7270926, -73.9893056, 446], ['A VOCE', 40.767899, -73.982939, 447], ['LAZZARA‚ÄôS PIZZA CAF√â', 40.7540124, -73.9895205, 448], ['MORIMOTO AND BUDDAKAN', 40.7422787, -74.0048194, 449], ['MOMOFUKU', 40.729006, -73.984673, 450], ['BOHEMIAN HALL AND BEER GARDEN', 40.772838, -73.915595, 451], ['\"BOULEY, UPSTAIRS\"', 40.7165478, -74.0085947, 452], ['TOCQUEVILLE', 40.7366646, -73.9927042, 453], ['LODGE', 40.7125621, -73.9567204, 454], ['COUNTRY', 40.7655511, -73.987705, 455], ['NOODLE PUDDING', 40.6997749, -73.9920246, 456], ['DEL POSTO', 40.7434034, -74.007538, 457], ['TELEPAN', 40.77516, -73.979926, 458], ['HONG KONG STATION', 40.7642916, -73.9826906, 459], ['PEACOCK ALLEY', 40.7566196, -73.9738652, 460], ['YAKITORI TOTTO', 40.7653026, -73.9831714, 461], ['BLAUE GANS', 40.7164622, -74.0077686, 462], ['LA ESQUINA', 40.7213708, -73.9975484, 463], ['202', 40.9233025, -74.3063593, 464], ['FATTY CRAB', 40.7390982, -74.0056357, 465], ['D‚ÄôOR AHN', 40.5902993, -74.2887122, 466], ['Spigolo', 40.7718417, -73.9564625, 467], ['Cookshop', 40.745544, -74.0053868, 468], ['A.O.C. Bedford', 40.7327893, -74.0040534, 469], ['Melba‚Äôs', 40.8031125, -73.9565983, 470], ['Crispo', 40.7391935, -74.001753, 471], ['Mo Pitkin‚Äôs House of Satisfaction', 40.7233721, -73.9853098, 472], ['Uovo', 40.7275261, -73.9792979, 473], ['Chubo', 40.7210698, -73.9839602, 474], ['Bruno Jamais', 40.7777163, -73.9615915, 475], ['Tides', 40.907655, -73.583262, 476], ['Convivium Osteria', 40.681043, -73.977509, 477], ['Burger Joint', 40.928506, -73.853266, 478], ['Perry St', 40.7344022, -74.0097191, 479], ['Gusto', 40.9722809, -73.9618951, 480], ['Mercadito', 40.7276192, -73.979167, 481], ['BLT Prime', 40.7394035, -73.9859898, 482], ['A', 40.7423743, -73.9863243, 483], ['The Stanton Social', 40.7211478, -73.9881, 484], ['Alto', 40.7343837, -73.9982345, 485], ['Bar Americain', 40.7616498, -73.9818464, 486], ['The Modern', 40.761081, -73.976753, 487], ['Yumcha', 40.7156646, -73.9967045, 488], ['Una Pizza Napoletana', 40.7305832, -73.9847053, 489], ['Clinton St. Baking Company & Restaurant', 40.7211409, -73.9838378, 490], ['Cru', 41.0212192, -73.6308203, 491], ['Landmarc', 40.7689283, -73.982749, 492], ['Shake Shack', 40.7584683, -73.9892376, 493], ['Sushi of Gari', 40.7712864, -73.9528227, 494], ['Applewood', 40.6656498, -73.9820715, 495], ['BLT Fish', 40.7385978, -73.9933697, 496], ['V Steakhouse', 40.7688215, -73.9826003, 497], ['Kittichai', 40.724019, -74.0031287, 498], ['Bouillabaisse', 40.7313344, -74.0019138, 499], ['De Marco‚Äôs Pizzeria', 40.6250484, -73.9615304, 500], ['Porcupine', 40.7227513, -73.9944912, 501], ['Casa Mono', 40.7359272, -73.9871638, 502], ['Dinosaur Bar-B-Que', 40.7347521, -74.1701835, 503], ['Tempo', 40.7613115, -73.9675393, 504], ['Pure', 40.7642628, -73.9880643, 505], ['Megu', 40.7523819, -73.9676572, 506], ['Paola‚Äôs', 40.7847314, -73.9558015, 507], ['Abboccato', 40.7635598, -73.9797091, 508], ['l‚ÄôImpero', 40.7492566, -73.9700502, 509], ['Caf√© Luxembourg', 40.7774053, -73.9831569, 510], ['Little Giant', 40.7180333, -73.990385, 511], ['Lure Fishbar', 40.7246651, -73.9982612, 512], ['Caf√© Regular', 40.6751116, -73.9754858, 513], ['Russian Samovar', 40.7631638, -73.9847409, 514], ['Franny‚Äôs', 40.6759502, -73.9718375, 515], ['Caf√© Sabarsky', 40.7812347, -73.960253, 516], ['Kenka', 40.72913, -73.988465, 517], ['Barb√®s', 40.7493294, -73.982318, 518], ['Freeman‚Äôs', 40.721956, -73.99246, 519], ['Wolfgang‚Äôs Steakhouse', 40.7466875, -73.982114, 520], ['Beppe', 40.7398221, -73.9873025, 521], ['Hearth', 40.7300033, -73.9832223, 522], ['5 Ninth', 40.7396873, -74.0067241, 523], ['Mas', 40.7293569, -74.0039633, 524], ['Blue Hill at Stone Barns', 40.7320717, -73.9996555, 525], ['No. 1 Chinese', 40.7047222, -74.0105963, 526], ['Ixta', 40.7415019, -73.9993853, 527], ['Bao 111', 40.7243126, -73.9788419, 528], ['360', 40.9515468, -73.7358717, 529], ['Jack‚Äôs Luxury Oyster Bar', 40.7273889, -73.9887585, 530], ['Daisy May‚Äôs', 40.7633835, -73.9968186, 531], ['Fondue', 40.7245066, -74.0057522, 532], ['Barbuto', 40.7377678, -74.008014, 533], ['The Spotted Pig', 40.7356354, -74.006691, 534], ['Westville', 40.7417653, -74.0001572, 535], ['The Biltmore Room', 40.7649476, -73.9794337, 536], ['Public', 40.7221655, -73.9941167, 537], ['Dinerbar', 40.7497866, -73.977542, 538], ['Counter', 40.7236452, -73.9789804, 539], ['Diner', 40.7106879, -73.9655837, 540], ['San Pietro', 40.7605181, -73.9744535, 541], ['Bongo', 40.7330165, -74.0099715, 542], ['Mr. Chow', 40.7587022, -73.9644314, 543], ['D‚ÄôAmico', 40.6834909, -73.9951696, 544], ['Matsuri', 40.7421522, -74.0038937, 545], ['Uncle Jack‚Äôs Steakhouse', 40.763082, -73.976619, 546], ['Capitale', 40.7511656, -73.9748837, 547], ['Les Enfants Terribles', 40.7136582, -73.9887408, 548], ['Amma', 40.755539, -73.968738, 549], ['Nice Matin', 40.7833911, -73.9784096, 550], ['Schiller‚Äôs Liquor Bar', 40.719352, -73.986694, 551], ['KAI', 40.8435172, -73.8458572, 552], ['Sample', 40.7995261, -73.6501859, 553], ['Robert‚Äôs Steakhouse', 40.7513959, -74.0035869, 554], ['Pylos', 40.7261248, -73.9840713, 555], ['Justin‚Äôs', 40.6647162, -73.7345433, 556], ['Lever House Restaurant', 40.7595244, -73.9730768, 557], ['Montrachet', 40.7195598, -74.0057489, 558], ['Rug-B', 40.6404188, -73.9657621, 559], ['Lunchbox Food Co.', 40.961269, -73.842064, 560], ['Harry Cipriani', 40.764365, -73.9725292, 561], ['Zerza', 40.7268118, -73.9875683, 562], ['El Paso Taquer√≠a', 40.7873603, -73.9527632, 563], ['WD-50', 40.719684, -73.984691, 564], ['Lovely Day', 40.7217915, -73.9943673, 565], ['P. J. Clarke‚Äôs', 40.7589094, -73.9680422, 566], ['Taste', 40.9401988, -74.0308129, 567], ['The Carriage House', 40.728154, -74.3091954, 568], ['Joe and Pat‚Äôs', 40.61294, -74.1220934, 569], ['Pampano', 40.7554201, -73.97058, 570], ['Nanni', 40.9104437, -74.0753595, 571], ['Blue Hill', 40.7320717, -73.9996555, 572], ['Quercy', 40.6857511, -73.994407, 573], ['Superfine', 40.7022345, -73.9874098, 574], ['Brasserie 8 1/2', 40.7636669, -73.9750445, 575], ['DRK', 40.7289035, -74.0016012, 576], ['Thomas Beisl', 40.686977, -73.9778744, 577], ['Casa', 40.7314902, -74.0047886, 578], ['Kori', 40.7178583, -74.0053514, 579], ['Pazo', 40.7489165, -73.9725242, 580], ['Aix', 41.059295, -73.832479, 581], ['Zum Schneider', 40.724254, -73.978917, 582], ['Sapori D‚ÄôIschia', 40.7507102, -73.9063395, 583], ['Jewel Bako 239 E. 5th St. (979-1012)', 40.7270326, -73.9893448, 584], ['Salt', 40.7432483, -73.922923, 585], ['Locanda Vini & Olii', 40.684954, -73.9629395, 586], ['√âpicerie/Caf√© Charbon', 40.7212715, -73.9885203, 587], ['Dos Caminos', 40.755862, -73.970402, 588], ['Five Points', 40.56703, -73.887572, 589], ['The Basil', 40.8741181, -73.5968104, 590], ['Bouley', 40.7169501, -74.0089346, 591], ['Delegates‚Äô Dining Room', 40.749578, -73.9670955, 592], ['Beyoglu', 40.7754057, -73.9561835, 593], ['BB Sandwich Bar', 40.7305016, -74.000411, 594], ['Grocery', 40.7339819, -74.0013788, 595], ['Atelier', 40.7654343, -73.9760341, 596], ['Craft 43 E. 19th St. (780-0880)', 40.7381658, -73.9886678, 597], ['Washington Park', 40.6749663, -73.9633804, 598], ['Blue Smoke', 40.7422779, -73.9837497, 599], ['Strip House', 40.7345067, -73.9933106, 600], ['Nam', 40.7181038, -73.9943667, 601], ['Annisa', 40.7325755, -74.0024429, 602], ['Bid', 40.6909902, -73.9963129, 603], ['The Harrison', 40.745361, -74.16336, 604], ['Blue Fin', 40.7593299, -73.9857221, 605], ['Ustav', 40.7578214, -73.9825183, 606], ['Punch', 40.7396382, -73.9899289, 607], ['DB Bistro Moderne', 40.7559471, -73.9821138, 608], ['Walls√©', 40.7354082, -74.0082365, 609], ['Castellano', 40.7529092, -73.9719812, 610], ['Viand Coffee Shop', 40.764865, -73.9702175, 611], ['Bahar', 40.6334555, -73.9672963, 612], ['Arezzo', 40.7417046, -73.9924653, 613], ['AQ Caf√© Scandinavia House', 40.7494198, -73.9800144, 614], ['Baldoria', 40.7939445, -73.9342205, 615], ['Cooke‚Äôs Corner', 40.7902557, -73.973378, 616], ['Ilo', 40.7528355, -73.9837701, 617], ['Artisanal', 40.7461952, -73.9829051, 618], ['Town', 40.73761, -73.98916, 619], ['Inside', 40.7571324, -73.9734317, 620], ['Tamarind', 40.7191069, -74.0090265, 621], ['Blue Ribbon', 40.7254453, -74.0030042, 622], ['Ithaka', 40.7774445, -73.9512804, 623], ['Tibetan Yak', 40.7465006, -73.8928008, 624], ['Sipan', 40.792996, -73.9715258, 625], ['Daniel', 40.7667384, -73.9676095, 626], ['Ouest', 40.7870195, -73.9781492, 627], ['Hampton Chutney Co.', 40.720051, -73.999591, 628], ['Manducatis', 40.744584, -73.9491157, 629], ['Atlas', 40.634501, -73.9669837, 630], ['Bayou', 40.6168134, -74.068367, 631], ['Olives', 40.7251667, -73.9998802, 632], ['Mexicana Mama', 40.7340436, -74.0064582, 633], ['Grand Central Degustation', 40.7524862, -73.9774231, 634], ['Fleur de Sel', 40.7395891, -73.9902836, 635], ['FIRE AND ICE', 41.0544005, -74.0697146, 636]]\n"
     ]
    }
   ],
   "source": [
    "#### OK, now I have a file with format:\n",
    "# Okonomi / Yuji Ramen\t{'lat': 40.7125377, 'lng': -73.948781}\n",
    "# Momofuku Nishi\t{'lat': 40.7443485, 'lng': -73.9988078}\n",
    "# The Cecil\t{'lat': 40.8047705, 'lng': -73.952519}\n",
    "\n",
    "# need to take this file and\n",
    "# 1. add markers to google maps\n",
    "# 2. write somethimg to add new restaurants to it every week\n",
    "\n",
    "loclist = []\n",
    "parsed = open('T4T_restlist_parsed.txt', 'r')\n",
    "for line in parsed:\n",
    "    linelist = []\n",
    "    items = line.split(\"\\t\")\n",
    "    linelist.append(str(items[0]))\n",
    "    linelist.append(float(items[1]))\n",
    "    linelist.append(float(items[2]))\n",
    "    linelist.append(int(items[3]))    \n",
    "    loclist.append(linelist)\n",
    "\n",
    "print(loclist)    \n"
   ]
  },
  {
   "cell_type": "code",
   "execution_count": 40,
   "metadata": {
    "collapsed": false
   },
   "outputs": [],
   "source": []
  },
  {
   "cell_type": "code",
   "execution_count": null,
   "metadata": {
    "collapsed": true
   },
   "outputs": [],
   "source": []
  }
 ],
 "metadata": {
  "kernelspec": {
   "display_name": "Python 2",
   "language": "python",
   "name": "python2"
  },
  "language_info": {
   "codemirror_mode": {
    "name": "ipython",
    "version": 2
   },
   "file_extension": ".py",
   "mimetype": "text/x-python",
   "name": "python",
   "nbconvert_exporter": "python",
   "pygments_lexer": "ipython2",
   "version": "2.7.11"
  }
 },
 "nbformat": 4,
 "nbformat_minor": 0
}
